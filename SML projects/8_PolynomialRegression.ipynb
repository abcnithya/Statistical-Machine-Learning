{
  "nbformat": 4,
  "nbformat_minor": 0,
  "metadata": {
    "colab": {
      "provenance": []
    },
    "kernelspec": {
      "name": "python3",
      "display_name": "Python 3"
    },
    "language_info": {
      "name": "python"
    }
  },
  "cells": [
    {
      "cell_type": "markdown",
      "source": [
        "# ***Polynomial Regression***"
      ],
      "metadata": {
        "id": "KUzLoToqfd8s"
      }
    },
    {
      "cell_type": "markdown",
      "source": [
        "# ***Table of content***\n",
        "\n",
        ">[Polynomial Regression](#scrollTo=KUzLoToqfd8s)\n",
        "\n",
        ">>[Objective](#scrollTo=z8UnvvEcd-pR)\n",
        "\n",
        ">>>[Split and transform data if needed](#scrollTo=KCyJ80nRgqxK)\n",
        "\n",
        ">>>[Select predictors and labels](#scrollTo=9VjpsM_DewpB)\n",
        "\n",
        ">>>[Polyfit](#scrollTo=0uhwGNctgKlW)\n",
        "\n"
      ],
      "metadata": {
        "colab_type": "toc",
        "id": "iqb8Ea8GfntE"
      }
    },
    {
      "cell_type": "markdown",
      "source": [
        "## ***Objective***\n",
        "\n",
        "1. Select the most relevant features using statistical tests, correlation analysis, or domain knowledge.\n",
        "2. Create polynomial features up to a certain degree, e.g., 2 or 3.\n",
        "3. Split the data into training and test sets.\n",
        "4. Scale the data to have zero mean and unit variance.\n",
        "5. Train different regression models with different regularization strengths, e.g., L1, L2, or Elastic Net.\n",
        "6. Evaluate the models on the test set and select the one with the lowest test error and good bias-variance trade-off."
      ],
      "metadata": {
        "id": "z8UnvvEcd-pR"
      }
    },
    {
      "cell_type": "code",
      "execution_count": null,
      "metadata": {
        "id": "8r00GfQUdJ8f"
      },
      "outputs": [],
      "source": [
        "# Import necessary libraries\n",
        "import numpy as np\n",
        "import pandas as pd\n",
        "import matplotlib.pyplot as plt\n",
        "from sklearn.datasets import fetch_openml\n",
        "from sklearn.linear_model import LinearRegression, LassoCV, RidgeCV, ElasticNetCV\n",
        "from sklearn.model_selection import train_test_split\n",
        "from sklearn.preprocessing import PolynomialFeatures, StandardScaler\n",
        "from sklearn.metrics import mean_squared_error\n",
        "import seaborn as sns"
      ]
    },
    {
      "cell_type": "markdown",
      "source": [
        "***About the dataset:***\n",
        "\n",
        "The Boston Housing dataset is a collection of data about housing in the suburbs of Boston. It includes various features such as crime rate, number of rooms, property tax rate, and others, which are used to predict housing prices.\n",
        "\n",
        "The dataset consists of 506 instances (rows), each representing a different suburb. Each instance has 13 features (columns), including crime rate, property tax rate, pupil-teacher ratio, and more. The target variable is the median value of owner-occupied homes in $1000s."
      ],
      "metadata": {
        "id": "Xj6B93lHfs3L"
      }
    },
    {
      "cell_type": "code",
      "source": [
        "# Load the Boston Housing dataset\n",
        "boston = fetch_openml(name='boston')\n",
        "\n",
        "# Convert the dataset to a pandas DataFrame\n",
        "df = pd.DataFrame(boston.data, columns=boston.feature_names)"
      ],
      "metadata": {
        "colab": {
          "base_uri": "https://localhost:8080/"
        },
        "id": "A5637XkAdWTj",
        "outputId": "a224e56a-e33b-4ba5-bd2b-5c03ad4a9c26"
      },
      "execution_count": null,
      "outputs": [
        {
          "output_type": "stream",
          "name": "stderr",
          "text": [
            "/usr/local/lib/python3.10/dist-packages/sklearn/datasets/_openml.py:311: UserWarning: Multiple active versions of the dataset matching the name boston exist. Versions may be fundamentally different, returning version 1.\n",
            "  warn(\n",
            "/usr/local/lib/python3.10/dist-packages/sklearn/datasets/_openml.py:1022: FutureWarning: The default value of `parser` will change from `'liac-arff'` to `'auto'` in 1.4. You can set `parser='auto'` to silence this warning. Therefore, an `ImportError` will be raised from 1.4 if the dataset is dense and pandas is not installed. Note that the pandas parser may return different data types. See the Notes Section in fetch_openml's API doc for details.\n",
            "  warn(\n"
          ]
        }
      ]
    },
    {
      "cell_type": "code",
      "source": [
        "df['MEDV'] = boston.target"
      ],
      "metadata": {
        "id": "8MavCTSrdjYk"
      },
      "execution_count": null,
      "outputs": []
    },
    {
      "cell_type": "markdown",
      "source": [
        "### ***Split and transform data if needed***"
      ],
      "metadata": {
        "id": "KCyJ80nRgqxK"
      }
    },
    {
      "cell_type": "code",
      "source": [
        "#treating numerical columns and categorical columns\n",
        "from sklearn.preprocessing import StandardScaler\n",
        "\n",
        "# Select only numerical columns\n",
        "num_cols = ['CRIM', 'ZN', 'INDUS', 'NOX', 'RM', 'AGE', 'DIS', 'TAX', 'PTRATIO', 'B', 'LSTAT']\n",
        "\n",
        "# scale numerical columns\n",
        "scaler = StandardScaler()\n",
        "num_data = scaler.fit_transform(df[num_cols])\n",
        "num_df = pd.DataFrame(num_data, columns=num_cols)"
      ],
      "metadata": {
        "id": "fmsIcKCideF6"
      },
      "execution_count": null,
      "outputs": []
    },
    {
      "cell_type": "code",
      "source": [
        "from sklearn.preprocessing import OneHotEncoder\n",
        "categorical_cols = ['CHAS','RAD']\n",
        "df_categorical = df[categorical_cols]\n",
        "\n",
        "# encode categorical columns\n",
        "encoder = OneHotEncoder(drop='first')\n",
        "cat_data = encoder.fit_transform(df_categorical)\n",
        "cat_df = pd.DataFrame(cat_data.toarray(), columns=encoder.get_feature_names_out(categorical_cols))"
      ],
      "metadata": {
        "id": "tZvUyL3GdnhN"
      },
      "execution_count": null,
      "outputs": []
    },
    {
      "cell_type": "code",
      "source": [
        "# concatenate categorical and numerical data\n",
        "df_encoded = pd.concat([cat_df, num_df], axis=1)"
      ],
      "metadata": {
        "id": "DOrnbRZ7dqXY"
      },
      "execution_count": null,
      "outputs": []
    },
    {
      "cell_type": "markdown",
      "source": [
        "### ***Select predictors and labels***"
      ],
      "metadata": {
        "id": "9VjpsM_DewpB"
      }
    },
    {
      "cell_type": "code",
      "source": [
        "# Select the most relevant features\n",
        "X = df[['RM', 'LSTAT', 'PTRATIO']]\n",
        "y = df['MEDV']\n",
        "\n",
        "# Create polynomial features up to degree 2\n",
        "poly = PolynomialFeatures(degree=2, include_bias=False)\n",
        "X_poly = poly.fit_transform(X)\n"
      ],
      "metadata": {
        "id": "WQd6sy28ezF5"
      },
      "execution_count": null,
      "outputs": []
    },
    {
      "cell_type": "code",
      "source": [
        "# Split the data into training and test sets\n",
        "X_train, X_test, y_train, y_test = train_test_split(X_poly, y, test_size=0.2, random_state=42)\n",
        "\n",
        "# Scale the data to have zero mean and unit variance\n",
        "scaler = StandardScaler()\n",
        "X_train_scaled = scaler.fit_transform(X_train)\n",
        "X_test_scaled = scaler.transform(X_test)"
      ],
      "metadata": {
        "id": "w9I5_Ls-fTxz"
      },
      "execution_count": null,
      "outputs": []
    },
    {
      "cell_type": "code",
      "source": [
        "# Train different regression models with different regularization strengths\n",
        "regressors = {\n",
        "    'Linear': LinearRegression(),\n",
        "    'Lasso': LassoCV(cv=5),\n",
        "    'Ridge': RidgeCV(cv=5),\n",
        "    'Elastic Net': ElasticNetCV(cv=5)\n",
        "}"
      ],
      "metadata": {
        "id": "lrVWir-TfZMZ"
      },
      "execution_count": null,
      "outputs": []
    },
    {
      "cell_type": "code",
      "source": [
        "for name, regressor in regressors.items():\n",
        "    regressor.fit(X_train_scaled, y_train)\n",
        "    y_pred = regressor.predict(X_test_scaled)\n",
        "    mse = mean_squared_error(y_test, y_pred)\n",
        "    print(f'{name}: MSE={mse:.2f}, R^2={regressor.score(X_test_scaled, y_test):.2f}')\n"
      ],
      "metadata": {
        "id": "NcEl5O8BfkwV",
        "colab": {
          "base_uri": "https://localhost:8080/"
        },
        "outputId": "709e26ca-aeee-41ca-b849-dc72466cb18b"
      },
      "execution_count": null,
      "outputs": [
        {
          "output_type": "stream",
          "name": "stdout",
          "text": [
            "Linear: MSE=16.29, R^2=0.78\n"
          ]
        },
        {
          "output_type": "stream",
          "name": "stderr",
          "text": [
            "/usr/local/lib/python3.10/dist-packages/sklearn/linear_model/_coordinate_descent.py:614: ConvergenceWarning: Objective did not converge. You might want to increase the number of iterations. Duality gap: 4.237390130994754, tolerance: 2.8821090464396293\n",
            "  model = cd_fast.enet_coordinate_descent_gram(\n",
            "/usr/local/lib/python3.10/dist-packages/sklearn/linear_model/_coordinate_descent.py:614: ConvergenceWarning: Objective did not converge. You might want to increase the number of iterations. Duality gap: 6.131826249295045, tolerance: 2.8821090464396293\n",
            "  model = cd_fast.enet_coordinate_descent_gram(\n",
            "/usr/local/lib/python3.10/dist-packages/sklearn/linear_model/_coordinate_descent.py:614: ConvergenceWarning: Objective did not converge. You might want to increase the number of iterations. Duality gap: 6.302266957853135, tolerance: 2.8821090464396293\n",
            "  model = cd_fast.enet_coordinate_descent_gram(\n",
            "/usr/local/lib/python3.10/dist-packages/sklearn/linear_model/_coordinate_descent.py:614: ConvergenceWarning: Objective did not converge. You might want to increase the number of iterations. Duality gap: 6.208191332729257, tolerance: 2.8821090464396293\n",
            "  model = cd_fast.enet_coordinate_descent_gram(\n",
            "/usr/local/lib/python3.10/dist-packages/sklearn/linear_model/_coordinate_descent.py:614: ConvergenceWarning: Objective did not converge. You might want to increase the number of iterations. Duality gap: 6.058644964112318, tolerance: 2.8821090464396293\n",
            "  model = cd_fast.enet_coordinate_descent_gram(\n",
            "/usr/local/lib/python3.10/dist-packages/sklearn/linear_model/_coordinate_descent.py:614: ConvergenceWarning: Objective did not converge. You might want to increase the number of iterations. Duality gap: 5.886404355245759, tolerance: 2.8821090464396293\n",
            "  model = cd_fast.enet_coordinate_descent_gram(\n",
            "/usr/local/lib/python3.10/dist-packages/sklearn/linear_model/_coordinate_descent.py:614: ConvergenceWarning: Objective did not converge. You might want to increase the number of iterations. Duality gap: 9.673901971671512, tolerance: 2.8821090464396293\n",
            "  model = cd_fast.enet_coordinate_descent_gram(\n",
            "/usr/local/lib/python3.10/dist-packages/sklearn/linear_model/_coordinate_descent.py:614: ConvergenceWarning: Objective did not converge. You might want to increase the number of iterations. Duality gap: 11.025085114339163, tolerance: 2.8821090464396293\n",
            "  model = cd_fast.enet_coordinate_descent_gram(\n",
            "/usr/local/lib/python3.10/dist-packages/sklearn/linear_model/_coordinate_descent.py:614: ConvergenceWarning: Objective did not converge. You might want to increase the number of iterations. Duality gap: 3.3288209749280213, tolerance: 2.710494922600619\n",
            "  model = cd_fast.enet_coordinate_descent_gram(\n",
            "/usr/local/lib/python3.10/dist-packages/sklearn/linear_model/_coordinate_descent.py:614: ConvergenceWarning: Objective did not converge. You might want to increase the number of iterations. Duality gap: 3.0991385328361503, tolerance: 2.710494922600619\n",
            "  model = cd_fast.enet_coordinate_descent_gram(\n",
            "/usr/local/lib/python3.10/dist-packages/sklearn/linear_model/_coordinate_descent.py:614: ConvergenceWarning: Objective did not converge. You might want to increase the number of iterations. Duality gap: 6.57062883821709, tolerance: 2.710494922600619\n",
            "  model = cd_fast.enet_coordinate_descent_gram(\n",
            "/usr/local/lib/python3.10/dist-packages/sklearn/linear_model/_coordinate_descent.py:614: ConvergenceWarning: Objective did not converge. You might want to increase the number of iterations. Duality gap: 9.265186642982371, tolerance: 2.710494922600619\n",
            "  model = cd_fast.enet_coordinate_descent_gram(\n",
            "/usr/local/lib/python3.10/dist-packages/sklearn/linear_model/_coordinate_descent.py:614: ConvergenceWarning: Objective did not converge. You might want to increase the number of iterations. Duality gap: 9.527174434531844, tolerance: 2.710494922600619\n",
            "  model = cd_fast.enet_coordinate_descent_gram(\n",
            "/usr/local/lib/python3.10/dist-packages/sklearn/linear_model/_coordinate_descent.py:614: ConvergenceWarning: Objective did not converge. You might want to increase the number of iterations. Duality gap: 9.352700552941315, tolerance: 2.710494922600619\n",
            "  model = cd_fast.enet_coordinate_descent_gram(\n",
            "/usr/local/lib/python3.10/dist-packages/sklearn/linear_model/_coordinate_descent.py:614: ConvergenceWarning: Objective did not converge. You might want to increase the number of iterations. Duality gap: 2.9052161634253935, tolerance: 2.7297569226006195\n",
            "  model = cd_fast.enet_coordinate_descent_gram(\n",
            "/usr/local/lib/python3.10/dist-packages/sklearn/linear_model/_coordinate_descent.py:614: ConvergenceWarning: Objective did not converge. You might want to increase the number of iterations. Duality gap: 4.962208135523724, tolerance: 2.7297569226006195\n",
            "  model = cd_fast.enet_coordinate_descent_gram(\n",
            "/usr/local/lib/python3.10/dist-packages/sklearn/linear_model/_coordinate_descent.py:614: ConvergenceWarning: Objective did not converge. You might want to increase the number of iterations. Duality gap: 5.185791159592554, tolerance: 2.7297569226006195\n",
            "  model = cd_fast.enet_coordinate_descent_gram(\n",
            "/usr/local/lib/python3.10/dist-packages/sklearn/linear_model/_coordinate_descent.py:614: ConvergenceWarning: Objective did not converge. You might want to increase the number of iterations. Duality gap: 4.909463965453142, tolerance: 2.947695024691358\n",
            "  model = cd_fast.enet_coordinate_descent_gram(\n",
            "/usr/local/lib/python3.10/dist-packages/sklearn/linear_model/_coordinate_descent.py:614: ConvergenceWarning: Objective did not converge. You might want to increase the number of iterations. Duality gap: 8.599868487786807, tolerance: 2.947695024691358\n",
            "  model = cd_fast.enet_coordinate_descent_gram(\n",
            "/usr/local/lib/python3.10/dist-packages/sklearn/linear_model/_coordinate_descent.py:614: ConvergenceWarning: Objective did not converge. You might want to increase the number of iterations. Duality gap: 9.12401652915105, tolerance: 2.947695024691358\n",
            "  model = cd_fast.enet_coordinate_descent_gram(\n",
            "/usr/local/lib/python3.10/dist-packages/sklearn/linear_model/_coordinate_descent.py:614: ConvergenceWarning: Objective did not converge. You might want to increase the number of iterations. Duality gap: 13.329840988920296, tolerance: 2.947695024691358\n",
            "  model = cd_fast.enet_coordinate_descent_gram(\n"
          ]
        },
        {
          "output_type": "stream",
          "name": "stdout",
          "text": [
            "Lasso: MSE=16.78, R^2=0.77\n",
            "Ridge: MSE=16.37, R^2=0.78\n",
            "Elastic Net: MSE=17.31, R^2=0.76\n"
          ]
        }
      ]
    },
    {
      "cell_type": "markdown",
      "source": [
        "### ***Polynomail fit***"
      ],
      "metadata": {
        "id": "0uhwGNctgKlW"
      }
    },
    {
      "cell_type": "code",
      "source": [
        "# Split the data into training and testing sets\n",
        "n_samples = len(y)\n",
        "n_train = int(n_samples * 0.8)\n",
        "n_test = n_samples - n_train\n",
        "X_train = X[:n_train]\n",
        "y_train = y[:n_train]\n",
        "X_test = X[n_train:]\n",
        "y_test = y[n_train:]\n"
      ],
      "metadata": {
        "id": "vjgomjnvg5g7"
      },
      "execution_count": null,
      "outputs": []
    },
    {
      "cell_type": "code",
      "source": [
        "# Define a function to calculate the bias and variance of a model\n",
        "def bias_variance_analysis(model, X_train, y_train, X_test, y_test):\n",
        "    # Calculate the predictions and errors for the training set\n",
        "    y_train_pred = model.predict(X_train)\n",
        "    train_error = np.mean((y_train - y_train_pred) ** 2)\n",
        "    train_variance = np.var(y_train_pred)\n",
        "    train_bias = train_error - train_variance\n",
        "\n",
        "    # Calculate the predictions and errors for the test set\n",
        "    y_test_pred = model.predict(X_test)\n",
        "    test_error = np.mean((y_test - y_test_pred) ** 2)\n",
        "    test_variance = np.var(y_test_pred)\n",
        "    test_bias = test_error - test_variance\n",
        "\n",
        "    return train_bias, train_variance, train_error, test_bias, test_variance, test_error\n",
        "\n",
        "# Define a function to fit a polynomial regression model and calculate the bias and variance\n",
        "def fit_poly_model(X_train, y_train, X_test, y_test, degree):\n",
        "    # Fit a polynomial regression model\n",
        "    poly_features = PolynomialFeatures(degree=degree, include_bias=False)\n",
        "    X_train_poly = poly_features.fit_transform(X_train)\n",
        "    X_test_poly = poly_features.transform(X_test)\n",
        "    model = LinearRegression().fit(X_train_poly, y_train)\n",
        "\n",
        "    # Calculate the bias and variance of the model\n",
        "    train_bias, train_variance, train_error, test_bias, test_variance, test_error = bias_variance_analysis(model, X_train_poly, y_train, X_test_poly, y_test)\n",
        "\n",
        "    return train_bias, train_variance, train_error, test_bias, test_variance, test_error"
      ],
      "metadata": {
        "id": "HsYkuqlFgMVu"
      },
      "execution_count": null,
      "outputs": []
    },
    {
      "cell_type": "code",
      "source": [
        "# Fit polynomial regression models of increasing degree and calculate the bias and variance\n",
        "degrees = range(1, 5)\n",
        "results = pd.DataFrame(index=degrees, columns=['train_bias', 'train_variance', 'train_error', 'test_bias', 'test_variance', 'test_error'])\n",
        "for degree in degrees:\n",
        "    results.loc[degree] = fit_poly_model(X_train, y_train, X_test, y_test, degree)\n",
        "\n",
        "# Plot the bias-variance trade-off for each model\n",
        "plt.figure(figsize=(10, 6))\n",
        "plt.plot(results.index, results['train_error'], label='Train Error')\n",
        "plt.plot(results.index, results['test_error'], label='Test Error')\n",
        "plt.plot(results.index, results['train_bias'], label='Train Bias')\n",
        "plt.plot(results.index, results['train_variance'], label='Train Variance')\n",
        "plt.plot(results.index, results['test_bias'], label='Test Bias')\n",
        "plt.plot(results.index, results['test_variance'], label='Test Variance')\n",
        "plt.xlabel('Polynomial Degree')\n",
        "plt.ylabel('Error')\n",
        "plt.legend()\n",
        "plt.show()"
      ],
      "metadata": {
        "colab": {
          "base_uri": "https://localhost:8080/",
          "height": 542
        },
        "id": "q-AK5K3qg-Gj",
        "outputId": "38e2b1b9-f3e1-4332-f1cc-12d2d095bff0"
      },
      "execution_count": null,
      "outputs": [
        {
          "output_type": "display_data",
          "data": {
            "text/plain": [
              "<Figure size 1000x600 with 1 Axes>"
            ],
            "image/png": "[encoded data removed]"
          },
          "metadata": {}
        }
      ]
    },
    {
      "cell_type": "markdown",
      "source": [
        "The above graph shows the changing errors for the increase in polynomial degree.\n",
        "\n",
        "We have train and test error, variances and baises of interest here."
      ],
      "metadata": {
        "id": "BkL7iVUggJdU"
      }
    }
  ]
}