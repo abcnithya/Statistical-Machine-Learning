{
  "nbformat": 4,
  "nbformat_minor": 0,
  "metadata": {
    "colab": {
      "provenance": []
    },
    "kernelspec": {
      "name": "python3",
      "display_name": "Python 3"
    },
    "language_info": {
      "name": "python"
    }
  },
  "cells": [
    {
      "cell_type": "markdown",
      "source": [
        "# ***Predictive Modeling of Coronary Heart Disease Using K-Nearest Neighbors (KNN): Feature Selection, Significance Analysis, and Performance Evaluation***"
      ],
      "metadata": {
        "id": "KvW8CYpjggwx"
      }
    },
    {
      "cell_type": "markdown",
      "source": [
        "# ***Table of content***\n",
        "\n",
        ">[Predictive Modeling of Coronary Heart Disease Using K-Nearest Neighbors (KNN): Feature Selection, Significance Analysis, and Performance Evaluation](#scrollTo=KvW8CYpjggwx)\n",
        "\n",
        ">>[Introduction](#scrollTo=Q7HyFJtWSxry)\n",
        "\n",
        ">>[Objectives](#scrollTo=GRoMjxZhdeS8)\n",
        "\n",
        ">>[Data description:](#scrollTo=YVknwFUZYwDU)\n",
        "\n",
        ">>[Exploratory Data Analysis](#scrollTo=rv2FL-bbqWWR)\n",
        "\n",
        ">>>[Statistical Summary](#scrollTo=P6VV51HbuGJ4)\n",
        "\n",
        ">>>[Null and Zero values](#scrollTo=QBequiqntEnp)\n",
        "\n",
        ">>>[Variable Information](#scrollTo=bBP6M8LLulnK)\n",
        "\n",
        ">>>[Graphical Representation](#scrollTo=WzBoJmkKkuW_)\n",
        "\n",
        ">>>[Pi-chart for the variables 'chd' and 'famhist'](#scrollTo=WzBoJmkKkuW_)\n",
        "\n",
        ">>>>[Box-plot of age of males in having being affected with the coronary heart disease](#scrollTo=Po1wCprJk-Ir)\n",
        "\n",
        ">>>>[Box-plot of tobacco consumption relating with the coronary heart disease](#scrollTo=juwlBb8UI2s5)\n",
        "\n",
        ">>>>[Correlation matrix](#scrollTo=EUEgiaPILTOG)\n",
        "\n",
        ">>>>[Independent sample t-test](#scrollTo=qYP1JxHHLfhh)\n",
        "\n",
        ">>>>[CHD - Si Pie Chart:](#scrollTo=hi0jOAqEhKVc)\n",
        "\n",
        ">>>>[CHD - No Pie Chart:](#scrollTo=hi0jOAqEhKVc)\n",
        "\n",
        ">>>>[Chisquare test for the comparision of two categorical variables](#scrollTo=Xpf_qaaovnKv)\n",
        "\n",
        ">>[Building the KNN Model](#scrollTo=nfmUzDv64Axa)\n",
        "\n",
        ">>[To find out which features are statistically significant in the KNN Classification model built in above model.](#scrollTo=Hy0VgHiJ4YJz)\n",
        "\n",
        ">>>>[Confusion matrix](#scrollTo=5cl2eBC6Di37)\n",
        "\n",
        ">>>>[Precision and Recall](#scrollTo=1vaYTdc6EXlO)\n",
        "\n",
        ">>[Conclusion](#scrollTo=_szCXaz6_YL2)\n",
        "\n"
      ],
      "metadata": {
        "colab_type": "toc",
        "id": "4ZpK2RNLxMEY"
      }
    },
    {
      "cell_type": "markdown",
      "source": [
        "## ***Introduction***\n",
        "\n",
        "The K-Nearest Neighbors (KNN) model is a simple yet effective supervised machine learning algorithm used for classification and regression tasks. In KNN, the prediction for a given data point is based on the majority class or average value of its nearest neighbors in the feature space. The model operates on the principle that similar data points tend to belong to the same class or have similar numerical values. KNN does not involve explicit training; instead, it memorizes the entire training dataset and uses it during the prediction phase. The key hyperparameter in KNN is 'k', representing the number of nearest neighbors to consider. KNN is intuitive, easy to understand, and robust to noisy data, making it particularly useful for small to medium-sized datasets. However, its performance may degrade with high-dimensional data due to the curse of dimensionality, and it can be computationally expensive during prediction, especially with large datasets. Despite its limitations, KNN remains a popular choice for its simplicity and effectiveness in various classification and regression tasks.\n",
        "\n",
        "We will see the applications of this concept further in the report."
      ],
      "metadata": {
        "id": "Q7HyFJtWSxry"
      }
    },
    {
      "cell_type": "markdown",
      "source": [
        "## ***Objectives***\n",
        "\n",
        "The objective of this report is to build a KNN model to predict the probability of getting ***CHD (Coronary Heart Disease)*** where we have used all other columns except \"chd\" as features to build the model. Then we are required to find out which features are statistically significant in the KNN Classification model built and then build a new KNN model using only the significant features. Latly, we are required to build a confusion matrix and report the precision and recall of the model.\n"
      ],
      "metadata": {
        "id": "GRoMjxZhdeS8"
      }
    },
    {
      "cell_type": "markdown",
      "source": [
        "## ***Data description:***\n",
        "\n",
        "Link for dataset:\n",
        "\n",
        "https://drive.google.com/file/d/1U-gs4VltYpp6hmd9n3OsEWPFdX0-LXZk/view?usp=sharing\n",
        "\n",
        "\n",
        "The data deals about a retrospective sample of males in a heart-disease high-risk region of the Western Cape, South Africa.\n",
        "There are roughly two controls per case of coronary heart disease. For many of the coronary heart disease that turned out\n",
        "positive, men have undergone blood pressure reduction treatment and other programs to reduce their risk\n",
        "factors after their coronary heart disease event. In some cases the measurements were made after these\n",
        "treatments.\n",
        "\n",
        "This data are taken from a larger dataset,\n",
        "described in Rousseauw et al. (1983), South African Medical Journal.\n",
        "\n",
        "Below is a description of the variables:\n",
        "1. sbp: systolic blood pressure\n",
        "2. tobacco: cumulative tobacco (kg)\n",
        "3. ldl: low densiity lipoprotein cholesterol\n",
        "4. adiposity: degree of fattiness or amount of fat, especially in a particular region of the body\n",
        "5. famhist: family history of heart disease (Present, Absent)\n",
        "6. typea: type-A behavior\n",
        "7. obesity: abnormal or excessive fat accumulation that presents a risk to health\n",
        "8. alcohol: current alcohol consumption\n",
        "9. age: age at onset\n",
        "10. chd: coronary heart disease"
      ],
      "metadata": {
        "id": "YVknwFUZYwDU"
      }
    },
    {
      "cell_type": "code",
      "source": [
        "from google.colab import drive\n",
        "drive.mount('/content/drive')"
      ],
      "metadata": {
        "colab": {
          "base_uri": "https://localhost:8080/"
        },
        "id": "0p2z_l3nO8En",
        "outputId": "7473cef8-7ed2-4871-b873-aad79d7481fd"
      },
      "execution_count": null,
      "outputs": [
        {
          "output_type": "stream",
          "name": "stdout",
          "text": [
            "Mounted at /content/drive\n"
          ]
        }
      ]
    },
    {
      "cell_type": "code",
      "source": [
        "import numpy as np\n",
        "import pandas as pd\n",
        "import matplotlib.pyplot as plt\n",
        "import seaborn as sns"
      ],
      "metadata": {
        "id": "_cumOEMsPSnc"
      },
      "execution_count": null,
      "outputs": []
    },
    {
      "cell_type": "code",
      "source": [
        "Data = pd.read_csv(\"/content/drive/MyDrive/SML/Datasets/SAheart.csv\")\n",
        "Data"
      ],
      "metadata": {
        "colab": {
          "base_uri": "https://localhost:8080/",
          "height": 423
        },
        "id": "jX86Oy4YPdeZ",
        "outputId": "4ef140f5-ccd4-4928-aba9-ed56959fa408"
      },
      "execution_count": null,
      "outputs": [
        {
          "output_type": "execute_result",
          "data": {
            "text/plain": [
              "     sbp  tobacco    ldl  adiposity  famhist  typea  obesity  alcohol  age chd\n",
              "0    160    12.00   5.73      23.11  Present     49    25.30    97.20   52  Si\n",
              "1    144     0.01   4.41      28.61   Absent     55    28.87     2.06   63  Si\n",
              "2    118     0.08   3.48      32.28  Present     52    29.14     3.81   46  No\n",
              "3    170     7.50   6.41      38.03  Present     51    31.99    24.26   58  Si\n",
              "4    134    13.60   3.50      27.78  Present     60    25.99    57.34   49  Si\n",
              "..   ...      ...    ...        ...      ...    ...      ...      ...  ...  ..\n",
              "457  214     0.40   5.98      31.72   Absent     64    28.45     0.00   58  No\n",
              "458  182     4.20   4.41      32.10   Absent     52    28.61    18.72   52  Si\n",
              "459  108     3.00   1.59      15.23   Absent     40    20.09    26.64   55  No\n",
              "460  118     5.40  11.61      30.79   Absent     64    27.35    23.97   40  No\n",
              "461  132     0.00   4.82      33.41  Present     62    14.70     0.00   46  Si\n",
              "\n",
              "[462 rows x 10 columns]"
            ],
            "text/html": [
              "\n",
              "  <div id=\"df-e26061b4-f14d-411b-b07e-eb49d10281dc\" class=\"colab-df-container\">\n",
              "    <div>\n",
              "<style scoped>\n",
              "    .dataframe tbody tr th:only-of-type {\n",
              "        vertical-align: middle;\n",
              "    }\n",
              "\n",
              "    .dataframe tbody tr th {\n",
              "        vertical-align: top;\n",
              "    }\n",
              "\n",
              "    .dataframe thead th {\n",
              "        text-align: right;\n",
              "    }\n",
              "</style>\n",
              "<table border=\"1\" class=\"dataframe\">\n",
              "  <thead>\n",
              "    <tr style=\"text-align: right;\">\n",
              "      <th></th>\n",
              "      <th>sbp</th>\n",
              "      <th>tobacco</th>\n",
              "      <th>ldl</th>\n",
              "      <th>adiposity</th>\n",
              "      <th>famhist</th>\n",
              "      <th>typea</th>\n",
              "      <th>obesity</th>\n",
              "      <th>alcohol</th>\n",
              "      <th>age</th>\n",
              "      <th>chd</th>\n",
              "    </tr>\n",
              "  </thead>\n",
              "  <tbody>\n",
              "    <tr>\n",
              "      <th>0</th>\n",
              "      <td>160</td>\n",
              "      <td>12.00</td>\n",
              "      <td>5.73</td>\n",
              "      <td>23.11</td>\n",
              "      <td>Present</td>\n",
              "      <td>49</td>\n",
              "      <td>25.30</td>\n",
              "      <td>97.20</td>\n",
              "      <td>52</td>\n",
              "      <td>Si</td>\n",
              "    </tr>\n",
              "    <tr>\n",
              "      <th>1</th>\n",
              "      <td>144</td>\n",
              "      <td>0.01</td>\n",
              "      <td>4.41</td>\n",
              "      <td>28.61</td>\n",
              "      <td>Absent</td>\n",
              "      <td>55</td>\n",
              "      <td>28.87</td>\n",
              "      <td>2.06</td>\n",
              "      <td>63</td>\n",
              "      <td>Si</td>\n",
              "    </tr>\n",
              "    <tr>\n",
              "      <th>2</th>\n",
              "      <td>118</td>\n",
              "      <td>0.08</td>\n",
              "      <td>3.48</td>\n",
              "      <td>32.28</td>\n",
              "      <td>Present</td>\n",
              "      <td>52</td>\n",
              "      <td>29.14</td>\n",
              "      <td>3.81</td>\n",
              "      <td>46</td>\n",
              "      <td>No</td>\n",
              "    </tr>\n",
              "    <tr>\n",
              "      <th>3</th>\n",
              "      <td>170</td>\n",
              "      <td>7.50</td>\n",
              "      <td>6.41</td>\n",
              "      <td>38.03</td>\n",
              "      <td>Present</td>\n",
              "      <td>51</td>\n",
              "      <td>31.99</td>\n",
              "      <td>24.26</td>\n",
              "      <td>58</td>\n",
              "      <td>Si</td>\n",
              "    </tr>\n",
              "    <tr>\n",
              "      <th>4</th>\n",
              "      <td>134</td>\n",
              "      <td>13.60</td>\n",
              "      <td>3.50</td>\n",
              "      <td>27.78</td>\n",
              "      <td>Present</td>\n",
              "      <td>60</td>\n",
              "      <td>25.99</td>\n",
              "      <td>57.34</td>\n",
              "      <td>49</td>\n",
              "      <td>Si</td>\n",
              "    </tr>\n",
              "    <tr>\n",
              "      <th>...</th>\n",
              "      <td>...</td>\n",
              "      <td>...</td>\n",
              "      <td>...</td>\n",
              "      <td>...</td>\n",
              "      <td>...</td>\n",
              "      <td>...</td>\n",
              "      <td>...</td>\n",
              "      <td>...</td>\n",
              "      <td>...</td>\n",
              "      <td>...</td>\n",
              "    </tr>\n",
              "    <tr>\n",
              "      <th>457</th>\n",
              "      <td>214</td>\n",
              "      <td>0.40</td>\n",
              "      <td>5.98</td>\n",
              "      <td>31.72</td>\n",
              "      <td>Absent</td>\n",
              "      <td>64</td>\n",
              "      <td>28.45</td>\n",
              "      <td>0.00</td>\n",
              "      <td>58</td>\n",
              "      <td>No</td>\n",
              "    </tr>\n",
              "    <tr>\n",
              "      <th>458</th>\n",
              "      <td>182</td>\n",
              "      <td>4.20</td>\n",
              "      <td>4.41</td>\n",
              "      <td>32.10</td>\n",
              "      <td>Absent</td>\n",
              "      <td>52</td>\n",
              "      <td>28.61</td>\n",
              "      <td>18.72</td>\n",
              "      <td>52</td>\n",
              "      <td>Si</td>\n",
              "    </tr>\n",
              "    <tr>\n",
              "      <th>459</th>\n",
              "      <td>108</td>\n",
              "      <td>3.00</td>\n",
              "      <td>1.59</td>\n",
              "      <td>15.23</td>\n",
              "      <td>Absent</td>\n",
              "      <td>40</td>\n",
              "      <td>20.09</td>\n",
              "      <td>26.64</td>\n",
              "      <td>55</td>\n",
              "      <td>No</td>\n",
              "    </tr>\n",
              "    <tr>\n",
              "      <th>460</th>\n",
              "      <td>118</td>\n",
              "      <td>5.40</td>\n",
              "      <td>11.61</td>\n",
              "      <td>30.79</td>\n",
              "      <td>Absent</td>\n",
              "      <td>64</td>\n",
              "      <td>27.35</td>\n",
              "      <td>23.97</td>\n",
              "      <td>40</td>\n",
              "      <td>No</td>\n",
              "    </tr>\n",
              "    <tr>\n",
              "      <th>461</th>\n",
              "      <td>132</td>\n",
              "      <td>0.00</td>\n",
              "      <td>4.82</td>\n",
              "      <td>33.41</td>\n",
              "      <td>Present</td>\n",
              "      <td>62</td>\n",
              "      <td>14.70</td>\n",
              "      <td>0.00</td>\n",
              "      <td>46</td>\n",
              "      <td>Si</td>\n",
              "    </tr>\n",
              "  </tbody>\n",
              "</table>\n",
              "<p>462 rows × 10 columns</p>\n",
              "</div>\n",
              "    <div class=\"colab-df-buttons\">\n",
              "\n",
              "  <div class=\"colab-df-container\">\n",
              "    <button class=\"colab-df-convert\" onclick=\"convertToInteractive('df-e26061b4-f14d-411b-b07e-eb49d10281dc')\"\n",
              "            title=\"Convert this dataframe to an interactive table.\"\n",
              "            style=\"display:none;\">\n",
              "\n",
              "  <svg xmlns=\"http://www.w3.org/2000/svg\" height=\"24px\" viewBox=\"0 -960 960 960\">\n",
              "    <path d=\"M120-120v-720h720v720H120Zm60-500h600v-160H180v160Zm220 220h160v-160H400v160Zm0 220h160v-160H400v160ZM180-400h160v-160H180v160Zm440 0h160v-160H620v160ZM180-180h160v-160H180v160Zm440 0h160v-160H620v160Z\"/>\n",
              "  </svg>\n",
              "    </button>\n",
              "\n",
              "  <style>\n",
              "    .colab-df-container {\n",
              "      display:flex;\n",
              "      gap: 12px;\n",
              "    }\n",
              "\n",
              "    .colab-df-convert {\n",
              "      background-color: #E8F0FE;\n",
              "      border: none;\n",
              "      border-radius: 50%;\n",
              "      cursor: pointer;\n",
              "      display: none;\n",
              "      fill: #1967D2;\n",
              "      height: 32px;\n",
              "      padding: 0 0 0 0;\n",
              "      width: 32px;\n",
              "    }\n",
              "\n",
              "    .colab-df-convert:hover {\n",
              "      background-color: #E2EBFA;\n",
              "      box-shadow: 0px 1px 2px rgba(60, 64, 67, 0.3), 0px 1px 3px 1px rgba(60, 64, 67, 0.15);\n",
              "      fill: #174EA6;\n",
              "    }\n",
              "\n",
              "    .colab-df-buttons div {\n",
              "      margin-bottom: 4px;\n",
              "    }\n",
              "\n",
              "    [theme=dark] .colab-df-convert {\n",
              "      background-color: #3B4455;\n",
              "      fill: #D2E3FC;\n",
              "    }\n",
              "\n",
              "    [theme=dark] .colab-df-convert:hover {\n",
              "      background-color: #434B5C;\n",
              "      box-shadow: 0px 1px 3px 1px rgba(0, 0, 0, 0.15);\n",
              "      filter: drop-shadow(0px 1px 2px rgba(0, 0, 0, 0.3));\n",
              "      fill: #FFFFFF;\n",
              "    }\n",
              "  </style>\n",
              "\n",
              "    <script>\n",
              "      const buttonEl =\n",
              "        document.querySelector('#df-e26061b4-f14d-411b-b07e-eb49d10281dc button.colab-df-convert');\n",
              "      buttonEl.style.display =\n",
              "        google.colab.kernel.accessAllowed ? 'block' : 'none';\n",
              "\n",
              "      async function convertToInteractive(key) {\n",
              "        const element = document.querySelector('#df-e26061b4-f14d-411b-b07e-eb49d10281dc');\n",
              "        const dataTable =\n",
              "          await google.colab.kernel.invokeFunction('convertToInteractive',\n",
              "                                                    [key], {});\n",
              "        if (!dataTable) return;\n",
              "\n",
              "        const docLinkHtml = 'Like what you see? Visit the ' +\n",
              "          '<a target=\"_blank\" href=https://colab.research.google.com/notebooks/data_table.ipynb>data table notebook</a>'\n",
              "          + ' to learn more about interactive tables.';\n",
              "        element.innerHTML = '';\n",
              "        dataTable['output_type'] = 'display_data';\n",
              "        await google.colab.output.renderOutput(dataTable, element);\n",
              "        const docLink = document.createElement('div');\n",
              "        docLink.innerHTML = docLinkHtml;\n",
              "        element.appendChild(docLink);\n",
              "      }\n",
              "    </script>\n",
              "  </div>\n",
              "\n",
              "\n",
              "<div id=\"df-f789ecdb-f943-4c04-98f7-985812b71094\">\n",
              "  <button class=\"colab-df-quickchart\" onclick=\"quickchart('df-f789ecdb-f943-4c04-98f7-985812b71094')\"\n",
              "            title=\"Suggest charts\"\n",
              "            style=\"display:none;\">\n",
              "\n",
              "<svg xmlns=\"http://www.w3.org/2000/svg\" height=\"24px\"viewBox=\"0 0 24 24\"\n",
              "     width=\"24px\">\n",
              "    <g>\n",
              "        <path d=\"M19 3H5c-1.1 0-2 .9-2 2v14c0 1.1.9 2 2 2h14c1.1 0 2-.9 2-2V5c0-1.1-.9-2-2-2zM9 17H7v-7h2v7zm4 0h-2V7h2v10zm4 0h-2v-4h2v4z\"/>\n",
              "    </g>\n",
              "</svg>\n",
              "  </button>\n",
              "\n",
              "<style>\n",
              "  .colab-df-quickchart {\n",
              "      --bg-color: #E8F0FE;\n",
              "      --fill-color: #1967D2;\n",
              "      --hover-bg-color: #E2EBFA;\n",
              "      --hover-fill-color: #174EA6;\n",
              "      --disabled-fill-color: #AAA;\n",
              "      --disabled-bg-color: #DDD;\n",
              "  }\n",
              "\n",
              "  [theme=dark] .colab-df-quickchart {\n",
              "      --bg-color: #3B4455;\n",
              "      --fill-color: #D2E3FC;\n",
              "      --hover-bg-color: #434B5C;\n",
              "      --hover-fill-color: #FFFFFF;\n",
              "      --disabled-bg-color: #3B4455;\n",
              "      --disabled-fill-color: #666;\n",
              "  }\n",
              "\n",
              "  .colab-df-quickchart {\n",
              "    background-color: var(--bg-color);\n",
              "    border: none;\n",
              "    border-radius: 50%;\n",
              "    cursor: pointer;\n",
              "    display: none;\n",
              "    fill: var(--fill-color);\n",
              "    height: 32px;\n",
              "    padding: 0;\n",
              "    width: 32px;\n",
              "  }\n",
              "\n",
              "  .colab-df-quickchart:hover {\n",
              "    background-color: var(--hover-bg-color);\n",
              "    box-shadow: 0 1px 2px rgba(60, 64, 67, 0.3), 0 1px 3px 1px rgba(60, 64, 67, 0.15);\n",
              "    fill: var(--button-hover-fill-color);\n",
              "  }\n",
              "\n",
              "  .colab-df-quickchart-complete:disabled,\n",
              "  .colab-df-quickchart-complete:disabled:hover {\n",
              "    background-color: var(--disabled-bg-color);\n",
              "    fill: var(--disabled-fill-color);\n",
              "    box-shadow: none;\n",
              "  }\n",
              "\n",
              "  .colab-df-spinner {\n",
              "    border: 2px solid var(--fill-color);\n",
              "    border-color: transparent;\n",
              "    border-bottom-color: var(--fill-color);\n",
              "    animation:\n",
              "      spin 1s steps(1) infinite;\n",
              "  }\n",
              "\n",
              "  @keyframes spin {\n",
              "    0% {\n",
              "      border-color: transparent;\n",
              "      border-bottom-color: var(--fill-color);\n",
              "      border-left-color: var(--fill-color);\n",
              "    }\n",
              "    20% {\n",
              "      border-color: transparent;\n",
              "      border-left-color: var(--fill-color);\n",
              "      border-top-color: var(--fill-color);\n",
              "    }\n",
              "    30% {\n",
              "      border-color: transparent;\n",
              "      border-left-color: var(--fill-color);\n",
              "      border-top-color: var(--fill-color);\n",
              "      border-right-color: var(--fill-color);\n",
              "    }\n",
              "    40% {\n",
              "      border-color: transparent;\n",
              "      border-right-color: var(--fill-color);\n",
              "      border-top-color: var(--fill-color);\n",
              "    }\n",
              "    60% {\n",
              "      border-color: transparent;\n",
              "      border-right-color: var(--fill-color);\n",
              "    }\n",
              "    80% {\n",
              "      border-color: transparent;\n",
              "      border-right-color: var(--fill-color);\n",
              "      border-bottom-color: var(--fill-color);\n",
              "    }\n",
              "    90% {\n",
              "      border-color: transparent;\n",
              "      border-bottom-color: var(--fill-color);\n",
              "    }\n",
              "  }\n",
              "</style>\n",
              "\n",
              "  <script>\n",
              "    async function quickchart(key) {\n",
              "      const quickchartButtonEl =\n",
              "        document.querySelector('#' + key + ' button');\n",
              "      quickchartButtonEl.disabled = true;  // To prevent multiple clicks.\n",
              "      quickchartButtonEl.classList.add('colab-df-spinner');\n",
              "      try {\n",
              "        const charts = await google.colab.kernel.invokeFunction(\n",
              "            'suggestCharts', [key], {});\n",
              "      } catch (error) {\n",
              "        console.error('Error during call to suggestCharts:', error);\n",
              "      }\n",
              "      quickchartButtonEl.classList.remove('colab-df-spinner');\n",
              "      quickchartButtonEl.classList.add('colab-df-quickchart-complete');\n",
              "    }\n",
              "    (() => {\n",
              "      let quickchartButtonEl =\n",
              "        document.querySelector('#df-f789ecdb-f943-4c04-98f7-985812b71094 button');\n",
              "      quickchartButtonEl.style.display =\n",
              "        google.colab.kernel.accessAllowed ? 'block' : 'none';\n",
              "    })();\n",
              "  </script>\n",
              "</div>\n",
              "\n",
              "  <div id=\"id_1cc2d84b-d54c-43ed-8d0d-078c409892d5\">\n",
              "    <style>\n",
              "      .colab-df-generate {\n",
              "        background-color: #E8F0FE;\n",
              "        border: none;\n",
              "        border-radius: 50%;\n",
              "        cursor: pointer;\n",
              "        display: none;\n",
              "        fill: #1967D2;\n",
              "        height: 32px;\n",
              "        padding: 0 0 0 0;\n",
              "        width: 32px;\n",
              "      }\n",
              "\n",
              "      .colab-df-generate:hover {\n",
              "        background-color: #E2EBFA;\n",
              "        box-shadow: 0px 1px 2px rgba(60, 64, 67, 0.3), 0px 1px 3px 1px rgba(60, 64, 67, 0.15);\n",
              "        fill: #174EA6;\n",
              "      }\n",
              "\n",
              "      [theme=dark] .colab-df-generate {\n",
              "        background-color: #3B4455;\n",
              "        fill: #D2E3FC;\n",
              "      }\n",
              "\n",
              "      [theme=dark] .colab-df-generate:hover {\n",
              "        background-color: #434B5C;\n",
              "        box-shadow: 0px 1px 3px 1px rgba(0, 0, 0, 0.15);\n",
              "        filter: drop-shadow(0px 1px 2px rgba(0, 0, 0, 0.3));\n",
              "        fill: #FFFFFF;\n",
              "      }\n",
              "    </style>\n",
              "    <button class=\"colab-df-generate\" onclick=\"generateWithVariable('Data')\"\n",
              "            title=\"Generate code using this dataframe.\"\n",
              "            style=\"display:none;\">\n",
              "\n",
              "  <svg xmlns=\"http://www.w3.org/2000/svg\" height=\"24px\"viewBox=\"0 0 24 24\"\n",
              "       width=\"24px\">\n",
              "    <path d=\"M7,19H8.4L18.45,9,17,7.55,7,17.6ZM5,21V16.75L18.45,3.32a2,2,0,0,1,2.83,0l1.4,1.43a1.91,1.91,0,0,1,.58,1.4,1.91,1.91,0,0,1-.58,1.4L9.25,21ZM18.45,9,17,7.55Zm-12,3A5.31,5.31,0,0,0,4.9,8.1,5.31,5.31,0,0,0,1,6.5,5.31,5.31,0,0,0,4.9,4.9,5.31,5.31,0,0,0,6.5,1,5.31,5.31,0,0,0,8.1,4.9,5.31,5.31,0,0,0,12,6.5,5.46,5.46,0,0,0,6.5,12Z\"/>\n",
              "  </svg>\n",
              "    </button>\n",
              "    <script>\n",
              "      (() => {\n",
              "      const buttonEl =\n",
              "        document.querySelector('#id_1cc2d84b-d54c-43ed-8d0d-078c409892d5 button.colab-df-generate');\n",
              "      buttonEl.style.display =\n",
              "        google.colab.kernel.accessAllowed ? 'block' : 'none';\n",
              "\n",
              "      buttonEl.onclick = () => {\n",
              "        google.colab.notebook.generateWithVariable('Data');\n",
              "      }\n",
              "      })();\n",
              "    </script>\n",
              "  </div>\n",
              "\n",
              "    </div>\n",
              "  </div>\n"
            ],
            "application/vnd.google.colaboratory.intrinsic+json": {
              "type": "dataframe",
              "variable_name": "Data",
              "summary": "{\n  \"name\": \"Data\",\n  \"rows\": 462,\n  \"fields\": [\n    {\n      \"column\": \"sbp\",\n      \"properties\": {\n        \"dtype\": \"number\",\n        \"std\": 20,\n        \"min\": 101,\n        \"max\": 218,\n        \"num_unique_values\": 62,\n        \"samples\": [\n          176,\n          178,\n          160\n        ],\n        \"semantic_type\": \"\",\n        \"description\": \"\"\n      }\n    },\n    {\n      \"column\": \"tobacco\",\n      \"properties\": {\n        \"dtype\": \"number\",\n        \"std\": 4.593024078404592,\n        \"min\": 0.0,\n        \"max\": 31.2,\n        \"num_unique_values\": 214,\n        \"samples\": [\n          6.0,\n          2.38,\n          3.7\n        ],\n        \"semantic_type\": \"\",\n        \"description\": \"\"\n      }\n    },\n    {\n      \"column\": \"ldl\",\n      \"properties\": {\n        \"dtype\": \"number\",\n        \"std\": 2.0709091610593253,\n        \"min\": 0.98,\n        \"max\": 15.33,\n        \"num_unique_values\": 329,\n        \"samples\": [\n          5.8,\n          6.58,\n          5.13\n        ],\n        \"semantic_type\": \"\",\n        \"description\": \"\"\n      }\n    },\n    {\n      \"column\": \"adiposity\",\n      \"properties\": {\n        \"dtype\": \"number\",\n        \"std\": 7.7806985958397625,\n        \"min\": 6.74,\n        \"max\": 42.49,\n        \"num_unique_values\": 408,\n        \"samples\": [\n          26.35,\n          27.68,\n          33.23\n        ],\n        \"semantic_type\": \"\",\n        \"description\": \"\"\n      }\n    },\n    {\n      \"column\": \"famhist\",\n      \"properties\": {\n        \"dtype\": \"category\",\n        \"num_unique_values\": 2,\n        \"samples\": [\n          \"Absent\",\n          \"Present\"\n        ],\n        \"semantic_type\": \"\",\n        \"description\": \"\"\n      }\n    },\n    {\n      \"column\": \"typea\",\n      \"properties\": {\n        \"dtype\": \"number\",\n        \"std\": 9,\n        \"min\": 13,\n        \"max\": 78,\n        \"num_unique_values\": 54,\n        \"samples\": [\n          57,\n          20\n        ],\n        \"semantic_type\": \"\",\n        \"description\": \"\"\n      }\n    },\n    {\n      \"column\": \"obesity\",\n      \"properties\": {\n        \"dtype\": \"number\",\n        \"std\": 4.2136802268977664,\n        \"min\": 14.7,\n        \"max\": 46.58,\n        \"num_unique_values\": 400,\n        \"samples\": [\n          19.48,\n          24.32\n        ],\n        \"semantic_type\": \"\",\n        \"description\": \"\"\n      }\n    },\n    {\n      \"column\": \"alcohol\",\n      \"properties\": {\n        \"dtype\": \"number\",\n        \"std\": 24.481058691658575,\n        \"min\": 0.0,\n        \"max\": 147.19,\n        \"num_unique_values\": 249,\n        \"samples\": [\n          7.85,\n          2.62\n        ],\n        \"semantic_type\": \"\",\n        \"description\": \"\"\n      }\n    },\n    {\n      \"column\": \"age\",\n      \"properties\": {\n        \"dtype\": \"number\",\n        \"std\": 14,\n        \"min\": 15,\n        \"max\": 64,\n        \"num_unique_values\": 49,\n        \"samples\": [\n          62,\n          47\n        ],\n        \"semantic_type\": \"\",\n        \"description\": \"\"\n      }\n    },\n    {\n      \"column\": \"chd\",\n      \"properties\": {\n        \"dtype\": \"category\",\n        \"num_unique_values\": 2,\n        \"samples\": [\n          \"No\",\n          \"Si\"\n        ],\n        \"semantic_type\": \"\",\n        \"description\": \"\"\n      }\n    }\n  ]\n}"
            }
          },
          "metadata": {},
          "execution_count": 3
        }
      ]
    },
    {
      "cell_type": "markdown",
      "source": [
        "## ***Exploratory Data Analysis***"
      ],
      "metadata": {
        "id": "rv2FL-bbqWWR"
      }
    },
    {
      "cell_type": "code",
      "source": [
        "Data.head()"
      ],
      "metadata": {
        "colab": {
          "base_uri": "https://localhost:8080/",
          "height": 206
        },
        "id": "OZ61gzcbtukQ",
        "outputId": "99904da1-8051-435b-e74a-afd0a9014c49"
      },
      "execution_count": null,
      "outputs": [
        {
          "output_type": "execute_result",
          "data": {
            "text/plain": [
              "   sbp  tobacco   ldl  adiposity  famhist  typea  obesity  alcohol  age chd\n",
              "0  160    12.00  5.73      23.11  Present     49    25.30    97.20   52  Si\n",
              "1  144     0.01  4.41      28.61   Absent     55    28.87     2.06   63  Si\n",
              "2  118     0.08  3.48      32.28  Present     52    29.14     3.81   46  No\n",
              "3  170     7.50  6.41      38.03  Present     51    31.99    24.26   58  Si\n",
              "4  134    13.60  3.50      27.78  Present     60    25.99    57.34   49  Si"
            ],
            "text/html": [
              "\n",
              "  <div id=\"df-a6a6ef78-8bf4-4c1f-aa7b-614ae1e7a45f\" class=\"colab-df-container\">\n",
              "    <div>\n",
              "<style scoped>\n",
              "    .dataframe tbody tr th:only-of-type {\n",
              "        vertical-align: middle;\n",
              "    }\n",
              "\n",
              "    .dataframe tbody tr th {\n",
              "        vertical-align: top;\n",
              "    }\n",
              "\n",
              "    .dataframe thead th {\n",
              "        text-align: right;\n",
              "    }\n",
              "</style>\n",
              "<table border=\"1\" class=\"dataframe\">\n",
              "  <thead>\n",
              "    <tr style=\"text-align: right;\">\n",
              "      <th></th>\n",
              "      <th>sbp</th>\n",
              "      <th>tobacco</th>\n",
              "      <th>ldl</th>\n",
              "      <th>adiposity</th>\n",
              "      <th>famhist</th>\n",
              "      <th>typea</th>\n",
              "      <th>obesity</th>\n",
              "      <th>alcohol</th>\n",
              "      <th>age</th>\n",
              "      <th>chd</th>\n",
              "    </tr>\n",
              "  </thead>\n",
              "  <tbody>\n",
              "    <tr>\n",
              "      <th>0</th>\n",
              "      <td>160</td>\n",
              "      <td>12.00</td>\n",
              "      <td>5.73</td>\n",
              "      <td>23.11</td>\n",
              "      <td>Present</td>\n",
              "      <td>49</td>\n",
              "      <td>25.30</td>\n",
              "      <td>97.20</td>\n",
              "      <td>52</td>\n",
              "      <td>Si</td>\n",
              "    </tr>\n",
              "    <tr>\n",
              "      <th>1</th>\n",
              "      <td>144</td>\n",
              "      <td>0.01</td>\n",
              "      <td>4.41</td>\n",
              "      <td>28.61</td>\n",
              "      <td>Absent</td>\n",
              "      <td>55</td>\n",
              "      <td>28.87</td>\n",
              "      <td>2.06</td>\n",
              "      <td>63</td>\n",
              "      <td>Si</td>\n",
              "    </tr>\n",
              "    <tr>\n",
              "      <th>2</th>\n",
              "      <td>118</td>\n",
              "      <td>0.08</td>\n",
              "      <td>3.48</td>\n",
              "      <td>32.28</td>\n",
              "      <td>Present</td>\n",
              "      <td>52</td>\n",
              "      <td>29.14</td>\n",
              "      <td>3.81</td>\n",
              "      <td>46</td>\n",
              "      <td>No</td>\n",
              "    </tr>\n",
              "    <tr>\n",
              "      <th>3</th>\n",
              "      <td>170</td>\n",
              "      <td>7.50</td>\n",
              "      <td>6.41</td>\n",
              "      <td>38.03</td>\n",
              "      <td>Present</td>\n",
              "      <td>51</td>\n",
              "      <td>31.99</td>\n",
              "      <td>24.26</td>\n",
              "      <td>58</td>\n",
              "      <td>Si</td>\n",
              "    </tr>\n",
              "    <tr>\n",
              "      <th>4</th>\n",
              "      <td>134</td>\n",
              "      <td>13.60</td>\n",
              "      <td>3.50</td>\n",
              "      <td>27.78</td>\n",
              "      <td>Present</td>\n",
              "      <td>60</td>\n",
              "      <td>25.99</td>\n",
              "      <td>57.34</td>\n",
              "      <td>49</td>\n",
              "      <td>Si</td>\n",
              "    </tr>\n",
              "  </tbody>\n",
              "</table>\n",
              "</div>\n",
              "    <div class=\"colab-df-buttons\">\n",
              "\n",
              "  <div class=\"colab-df-container\">\n",
              "    <button class=\"colab-df-convert\" onclick=\"convertToInteractive('df-a6a6ef78-8bf4-4c1f-aa7b-614ae1e7a45f')\"\n",
              "            title=\"Convert this dataframe to an interactive table.\"\n",
              "            style=\"display:none;\">\n",
              "\n",
              "  <svg xmlns=\"http://www.w3.org/2000/svg\" height=\"24px\" viewBox=\"0 -960 960 960\">\n",
              "    <path d=\"M120-120v-720h720v720H120Zm60-500h600v-160H180v160Zm220 220h160v-160H400v160Zm0 220h160v-160H400v160ZM180-400h160v-160H180v160Zm440 0h160v-160H620v160ZM180-180h160v-160H180v160Zm440 0h160v-160H620v160Z\"/>\n",
              "  </svg>\n",
              "    </button>\n",
              "\n",
              "  <style>\n",
              "    .colab-df-container {\n",
              "      display:flex;\n",
              "      gap: 12px;\n",
              "    }\n",
              "\n",
              "    .colab-df-convert {\n",
              "      background-color: #E8F0FE;\n",
              "      border: none;\n",
              "      border-radius: 50%;\n",
              "      cursor: pointer;\n",
              "      display: none;\n",
              "      fill: #1967D2;\n",
              "      height: 32px;\n",
              "      padding: 0 0 0 0;\n",
              "      width: 32px;\n",
              "    }\n",
              "\n",
              "    .colab-df-convert:hover {\n",
              "      background-color: #E2EBFA;\n",
              "      box-shadow: 0px 1px 2px rgba(60, 64, 67, 0.3), 0px 1px 3px 1px rgba(60, 64, 67, 0.15);\n",
              "      fill: #174EA6;\n",
              "    }\n",
              "\n",
              "    .colab-df-buttons div {\n",
              "      margin-bottom: 4px;\n",
              "    }\n",
              "\n",
              "    [theme=dark] .colab-df-convert {\n",
              "      background-color: #3B4455;\n",
              "      fill: #D2E3FC;\n",
              "    }\n",
              "\n",
              "    [theme=dark] .colab-df-convert:hover {\n",
              "      background-color: #434B5C;\n",
              "      box-shadow: 0px 1px 3px 1px rgba(0, 0, 0, 0.15);\n",
              "      filter: drop-shadow(0px 1px 2px rgba(0, 0, 0, 0.3));\n",
              "      fill: #FFFFFF;\n",
              "    }\n",
              "  </style>\n",
              "\n",
              "    <script>\n",
              "      const buttonEl =\n",
              "        document.querySelector('#df-a6a6ef78-8bf4-4c1f-aa7b-614ae1e7a45f button.colab-df-convert');\n",
              "      buttonEl.style.display =\n",
              "        google.colab.kernel.accessAllowed ? 'block' : 'none';\n",
              "\n",
              "      async function convertToInteractive(key) {\n",
              "        const element = document.querySelector('#df-a6a6ef78-8bf4-4c1f-aa7b-614ae1e7a45f');\n",
              "        const dataTable =\n",
              "          await google.colab.kernel.invokeFunction('convertToInteractive',\n",
              "                                                    [key], {});\n",
              "        if (!dataTable) return;\n",
              "\n",
              "        const docLinkHtml = 'Like what you see? Visit the ' +\n",
              "          '<a target=\"_blank\" href=https://colab.research.google.com/notebooks/data_table.ipynb>data table notebook</a>'\n",
              "          + ' to learn more about interactive tables.';\n",
              "        element.innerHTML = '';\n",
              "        dataTable['output_type'] = 'display_data';\n",
              "        await google.colab.output.renderOutput(dataTable, element);\n",
              "        const docLink = document.createElement('div');\n",
              "        docLink.innerHTML = docLinkHtml;\n",
              "        element.appendChild(docLink);\n",
              "      }\n",
              "    </script>\n",
              "  </div>\n",
              "\n",
              "\n",
              "<div id=\"df-12c4c9cc-372d-41f5-9067-5160adc11565\">\n",
              "  <button class=\"colab-df-quickchart\" onclick=\"quickchart('df-12c4c9cc-372d-41f5-9067-5160adc11565')\"\n",
              "            title=\"Suggest charts\"\n",
              "            style=\"display:none;\">\n",
              "\n",
              "<svg xmlns=\"http://www.w3.org/2000/svg\" height=\"24px\"viewBox=\"0 0 24 24\"\n",
              "     width=\"24px\">\n",
              "    <g>\n",
              "        <path d=\"M19 3H5c-1.1 0-2 .9-2 2v14c0 1.1.9 2 2 2h14c1.1 0 2-.9 2-2V5c0-1.1-.9-2-2-2zM9 17H7v-7h2v7zm4 0h-2V7h2v10zm4 0h-2v-4h2v4z\"/>\n",
              "    </g>\n",
              "</svg>\n",
              "  </button>\n",
              "\n",
              "<style>\n",
              "  .colab-df-quickchart {\n",
              "      --bg-color: #E8F0FE;\n",
              "      --fill-color: #1967D2;\n",
              "      --hover-bg-color: #E2EBFA;\n",
              "      --hover-fill-color: #174EA6;\n",
              "      --disabled-fill-color: #AAA;\n",
              "      --disabled-bg-color: #DDD;\n",
              "  }\n",
              "\n",
              "  [theme=dark] .colab-df-quickchart {\n",
              "      --bg-color: #3B4455;\n",
              "      --fill-color: #D2E3FC;\n",
              "      --hover-bg-color: #434B5C;\n",
              "      --hover-fill-color: #FFFFFF;\n",
              "      --disabled-bg-color: #3B4455;\n",
              "      --disabled-fill-color: #666;\n",
              "  }\n",
              "\n",
              "  .colab-df-quickchart {\n",
              "    background-color: var(--bg-color);\n",
              "    border: none;\n",
              "    border-radius: 50%;\n",
              "    cursor: pointer;\n",
              "    display: none;\n",
              "    fill: var(--fill-color);\n",
              "    height: 32px;\n",
              "    padding: 0;\n",
              "    width: 32px;\n",
              "  }\n",
              "\n",
              "  .colab-df-quickchart:hover {\n",
              "    background-color: var(--hover-bg-color);\n",
              "    box-shadow: 0 1px 2px rgba(60, 64, 67, 0.3), 0 1px 3px 1px rgba(60, 64, 67, 0.15);\n",
              "    fill: var(--button-hover-fill-color);\n",
              "  }\n",
              "\n",
              "  .colab-df-quickchart-complete:disabled,\n",
              "  .colab-df-quickchart-complete:disabled:hover {\n",
              "    background-color: var(--disabled-bg-color);\n",
              "    fill: var(--disabled-fill-color);\n",
              "    box-shadow: none;\n",
              "  }\n",
              "\n",
              "  .colab-df-spinner {\n",
              "    border: 2px solid var(--fill-color);\n",
              "    border-color: transparent;\n",
              "    border-bottom-color: var(--fill-color);\n",
              "    animation:\n",
              "      spin 1s steps(1) infinite;\n",
              "  }\n",
              "\n",
              "  @keyframes spin {\n",
              "    0% {\n",
              "      border-color: transparent;\n",
              "      border-bottom-color: var(--fill-color);\n",
              "      border-left-color: var(--fill-color);\n",
              "    }\n",
              "    20% {\n",
              "      border-color: transparent;\n",
              "      border-left-color: var(--fill-color);\n",
              "      border-top-color: var(--fill-color);\n",
              "    }\n",
              "    30% {\n",
              "      border-color: transparent;\n",
              "      border-left-color: var(--fill-color);\n",
              "      border-top-color: var(--fill-color);\n",
              "      border-right-color: var(--fill-color);\n",
              "    }\n",
              "    40% {\n",
              "      border-color: transparent;\n",
              "      border-right-color: var(--fill-color);\n",
              "      border-top-color: var(--fill-color);\n",
              "    }\n",
              "    60% {\n",
              "      border-color: transparent;\n",
              "      border-right-color: var(--fill-color);\n",
              "    }\n",
              "    80% {\n",
              "      border-color: transparent;\n",
              "      border-right-color: var(--fill-color);\n",
              "      border-bottom-color: var(--fill-color);\n",
              "    }\n",
              "    90% {\n",
              "      border-color: transparent;\n",
              "      border-bottom-color: var(--fill-color);\n",
              "    }\n",
              "  }\n",
              "</style>\n",
              "\n",
              "  <script>\n",
              "    async function quickchart(key) {\n",
              "      const quickchartButtonEl =\n",
              "        document.querySelector('#' + key + ' button');\n",
              "      quickchartButtonEl.disabled = true;  // To prevent multiple clicks.\n",
              "      quickchartButtonEl.classList.add('colab-df-spinner');\n",
              "      try {\n",
              "        const charts = await google.colab.kernel.invokeFunction(\n",
              "            'suggestCharts', [key], {});\n",
              "      } catch (error) {\n",
              "        console.error('Error during call to suggestCharts:', error);\n",
              "      }\n",
              "      quickchartButtonEl.classList.remove('colab-df-spinner');\n",
              "      quickchartButtonEl.classList.add('colab-df-quickchart-complete');\n",
              "    }\n",
              "    (() => {\n",
              "      let quickchartButtonEl =\n",
              "        document.querySelector('#df-12c4c9cc-372d-41f5-9067-5160adc11565 button');\n",
              "      quickchartButtonEl.style.display =\n",
              "        google.colab.kernel.accessAllowed ? 'block' : 'none';\n",
              "    })();\n",
              "  </script>\n",
              "</div>\n",
              "\n",
              "    </div>\n",
              "  </div>\n"
            ],
            "application/vnd.google.colaboratory.intrinsic+json": {
              "type": "dataframe",
              "variable_name": "Data",
              "summary": "{\n  \"name\": \"Data\",\n  \"rows\": 462,\n  \"fields\": [\n    {\n      \"column\": \"sbp\",\n      \"properties\": {\n        \"dtype\": \"number\",\n        \"std\": 20,\n        \"min\": 101,\n        \"max\": 218,\n        \"num_unique_values\": 62,\n        \"samples\": [\n          176,\n          178,\n          160\n        ],\n        \"semantic_type\": \"\",\n        \"description\": \"\"\n      }\n    },\n    {\n      \"column\": \"tobacco\",\n      \"properties\": {\n        \"dtype\": \"number\",\n        \"std\": 4.593024078404592,\n        \"min\": 0.0,\n        \"max\": 31.2,\n        \"num_unique_values\": 214,\n        \"samples\": [\n          6.0,\n          2.38,\n          3.7\n        ],\n        \"semantic_type\": \"\",\n        \"description\": \"\"\n      }\n    },\n    {\n      \"column\": \"ldl\",\n      \"properties\": {\n        \"dtype\": \"number\",\n        \"std\": 2.0709091610593253,\n        \"min\": 0.98,\n        \"max\": 15.33,\n        \"num_unique_values\": 329,\n        \"samples\": [\n          5.8,\n          6.58,\n          5.13\n        ],\n        \"semantic_type\": \"\",\n        \"description\": \"\"\n      }\n    },\n    {\n      \"column\": \"adiposity\",\n      \"properties\": {\n        \"dtype\": \"number\",\n        \"std\": 7.7806985958397625,\n        \"min\": 6.74,\n        \"max\": 42.49,\n        \"num_unique_values\": 408,\n        \"samples\": [\n          26.35,\n          27.68,\n          33.23\n        ],\n        \"semantic_type\": \"\",\n        \"description\": \"\"\n      }\n    },\n    {\n      \"column\": \"famhist\",\n      \"properties\": {\n        \"dtype\": \"category\",\n        \"num_unique_values\": 2,\n        \"samples\": [\n          \"Absent\",\n          \"Present\"\n        ],\n        \"semantic_type\": \"\",\n        \"description\": \"\"\n      }\n    },\n    {\n      \"column\": \"typea\",\n      \"properties\": {\n        \"dtype\": \"number\",\n        \"std\": 9,\n        \"min\": 13,\n        \"max\": 78,\n        \"num_unique_values\": 54,\n        \"samples\": [\n          57,\n          20\n        ],\n        \"semantic_type\": \"\",\n        \"description\": \"\"\n      }\n    },\n    {\n      \"column\": \"obesity\",\n      \"properties\": {\n        \"dtype\": \"number\",\n        \"std\": 4.2136802268977664,\n        \"min\": 14.7,\n        \"max\": 46.58,\n        \"num_unique_values\": 400,\n        \"samples\": [\n          19.48,\n          24.32\n        ],\n        \"semantic_type\": \"\",\n        \"description\": \"\"\n      }\n    },\n    {\n      \"column\": \"alcohol\",\n      \"properties\": {\n        \"dtype\": \"number\",\n        \"std\": 24.481058691658575,\n        \"min\": 0.0,\n        \"max\": 147.19,\n        \"num_unique_values\": 249,\n        \"samples\": [\n          7.85,\n          2.62\n        ],\n        \"semantic_type\": \"\",\n        \"description\": \"\"\n      }\n    },\n    {\n      \"column\": \"age\",\n      \"properties\": {\n        \"dtype\": \"number\",\n        \"std\": 14,\n        \"min\": 15,\n        \"max\": 64,\n        \"num_unique_values\": 49,\n        \"samples\": [\n          62,\n          47\n        ],\n        \"semantic_type\": \"\",\n        \"description\": \"\"\n      }\n    },\n    {\n      \"column\": \"chd\",\n      \"properties\": {\n        \"dtype\": \"category\",\n        \"num_unique_values\": 2,\n        \"samples\": [\n          \"No\",\n          \"Si\"\n        ],\n        \"semantic_type\": \"\",\n        \"description\": \"\"\n      }\n    }\n  ]\n}"
            }
          },
          "metadata": {},
          "execution_count": 4
        }
      ]
    },
    {
      "cell_type": "code",
      "source": [
        "Data.tail()"
      ],
      "metadata": {
        "colab": {
          "base_uri": "https://localhost:8080/",
          "height": 206
        },
        "id": "h6nvmpu0t1pW",
        "outputId": "85c2d6a3-4cca-4194-89c3-44910384895e"
      },
      "execution_count": null,
      "outputs": [
        {
          "output_type": "execute_result",
          "data": {
            "text/plain": [
              "     sbp  tobacco    ldl  adiposity  famhist  typea  obesity  alcohol  age chd\n",
              "457  214      0.4   5.98      31.72   Absent     64    28.45     0.00   58  No\n",
              "458  182      4.2   4.41      32.10   Absent     52    28.61    18.72   52  Si\n",
              "459  108      3.0   1.59      15.23   Absent     40    20.09    26.64   55  No\n",
              "460  118      5.4  11.61      30.79   Absent     64    27.35    23.97   40  No\n",
              "461  132      0.0   4.82      33.41  Present     62    14.70     0.00   46  Si"
            ],
            "text/html": [
              "\n",
              "  <div id=\"df-a41d810a-f0b8-4ee0-b4ec-7fd254950214\" class=\"colab-df-container\">\n",
              "    <div>\n",
              "<style scoped>\n",
              "    .dataframe tbody tr th:only-of-type {\n",
              "        vertical-align: middle;\n",
              "    }\n",
              "\n",
              "    .dataframe tbody tr th {\n",
              "        vertical-align: top;\n",
              "    }\n",
              "\n",
              "    .dataframe thead th {\n",
              "        text-align: right;\n",
              "    }\n",
              "</style>\n",
              "<table border=\"1\" class=\"dataframe\">\n",
              "  <thead>\n",
              "    <tr style=\"text-align: right;\">\n",
              "      <th></th>\n",
              "      <th>sbp</th>\n",
              "      <th>tobacco</th>\n",
              "      <th>ldl</th>\n",
              "      <th>adiposity</th>\n",
              "      <th>famhist</th>\n",
              "      <th>typea</th>\n",
              "      <th>obesity</th>\n",
              "      <th>alcohol</th>\n",
              "      <th>age</th>\n",
              "      <th>chd</th>\n",
              "    </tr>\n",
              "  </thead>\n",
              "  <tbody>\n",
              "    <tr>\n",
              "      <th>457</th>\n",
              "      <td>214</td>\n",
              "      <td>0.4</td>\n",
              "      <td>5.98</td>\n",
              "      <td>31.72</td>\n",
              "      <td>Absent</td>\n",
              "      <td>64</td>\n",
              "      <td>28.45</td>\n",
              "      <td>0.00</td>\n",
              "      <td>58</td>\n",
              "      <td>No</td>\n",
              "    </tr>\n",
              "    <tr>\n",
              "      <th>458</th>\n",
              "      <td>182</td>\n",
              "      <td>4.2</td>\n",
              "      <td>4.41</td>\n",
              "      <td>32.10</td>\n",
              "      <td>Absent</td>\n",
              "      <td>52</td>\n",
              "      <td>28.61</td>\n",
              "      <td>18.72</td>\n",
              "      <td>52</td>\n",
              "      <td>Si</td>\n",
              "    </tr>\n",
              "    <tr>\n",
              "      <th>459</th>\n",
              "      <td>108</td>\n",
              "      <td>3.0</td>\n",
              "      <td>1.59</td>\n",
              "      <td>15.23</td>\n",
              "      <td>Absent</td>\n",
              "      <td>40</td>\n",
              "      <td>20.09</td>\n",
              "      <td>26.64</td>\n",
              "      <td>55</td>\n",
              "      <td>No</td>\n",
              "    </tr>\n",
              "    <tr>\n",
              "      <th>460</th>\n",
              "      <td>118</td>\n",
              "      <td>5.4</td>\n",
              "      <td>11.61</td>\n",
              "      <td>30.79</td>\n",
              "      <td>Absent</td>\n",
              "      <td>64</td>\n",
              "      <td>27.35</td>\n",
              "      <td>23.97</td>\n",
              "      <td>40</td>\n",
              "      <td>No</td>\n",
              "    </tr>\n",
              "    <tr>\n",
              "      <th>461</th>\n",
              "      <td>132</td>\n",
              "      <td>0.0</td>\n",
              "      <td>4.82</td>\n",
              "      <td>33.41</td>\n",
              "      <td>Present</td>\n",
              "      <td>62</td>\n",
              "      <td>14.70</td>\n",
              "      <td>0.00</td>\n",
              "      <td>46</td>\n",
              "      <td>Si</td>\n",
              "    </tr>\n",
              "  </tbody>\n",
              "</table>\n",
              "</div>\n",
              "    <div class=\"colab-df-buttons\">\n",
              "\n",
              "  <div class=\"colab-df-container\">\n",
              "    <button class=\"colab-df-convert\" onclick=\"convertToInteractive('df-a41d810a-f0b8-4ee0-b4ec-7fd254950214')\"\n",
              "            title=\"Convert this dataframe to an interactive table.\"\n",
              "            style=\"display:none;\">\n",
              "\n",
              "  <svg xmlns=\"http://www.w3.org/2000/svg\" height=\"24px\" viewBox=\"0 -960 960 960\">\n",
              "    <path d=\"M120-120v-720h720v720H120Zm60-500h600v-160H180v160Zm220 220h160v-160H400v160Zm0 220h160v-160H400v160ZM180-400h160v-160H180v160Zm440 0h160v-160H620v160ZM180-180h160v-160H180v160Zm440 0h160v-160H620v160Z\"/>\n",
              "  </svg>\n",
              "    </button>\n",
              "\n",
              "  <style>\n",
              "    .colab-df-container {\n",
              "      display:flex;\n",
              "      gap: 12px;\n",
              "    }\n",
              "\n",
              "    .colab-df-convert {\n",
              "      background-color: #E8F0FE;\n",
              "      border: none;\n",
              "      border-radius: 50%;\n",
              "      cursor: pointer;\n",
              "      display: none;\n",
              "      fill: #1967D2;\n",
              "      height: 32px;\n",
              "      padding: 0 0 0 0;\n",
              "      width: 32px;\n",
              "    }\n",
              "\n",
              "    .colab-df-convert:hover {\n",
              "      background-color: #E2EBFA;\n",
              "      box-shadow: 0px 1px 2px rgba(60, 64, 67, 0.3), 0px 1px 3px 1px rgba(60, 64, 67, 0.15);\n",
              "      fill: #174EA6;\n",
              "    }\n",
              "\n",
              "    .colab-df-buttons div {\n",
              "      margin-bottom: 4px;\n",
              "    }\n",
              "\n",
              "    [theme=dark] .colab-df-convert {\n",
              "      background-color: #3B4455;\n",
              "      fill: #D2E3FC;\n",
              "    }\n",
              "\n",
              "    [theme=dark] .colab-df-convert:hover {\n",
              "      background-color: #434B5C;\n",
              "      box-shadow: 0px 1px 3px 1px rgba(0, 0, 0, 0.15);\n",
              "      filter: drop-shadow(0px 1px 2px rgba(0, 0, 0, 0.3));\n",
              "      fill: #FFFFFF;\n",
              "    }\n",
              "  </style>\n",
              "\n",
              "    <script>\n",
              "      const buttonEl =\n",
              "        document.querySelector('#df-a41d810a-f0b8-4ee0-b4ec-7fd254950214 button.colab-df-convert');\n",
              "      buttonEl.style.display =\n",
              "        google.colab.kernel.accessAllowed ? 'block' : 'none';\n",
              "\n",
              "      async function convertToInteractive(key) {\n",
              "        const element = document.querySelector('#df-a41d810a-f0b8-4ee0-b4ec-7fd254950214');\n",
              "        const dataTable =\n",
              "          await google.colab.kernel.invokeFunction('convertToInteractive',\n",
              "                                                    [key], {});\n",
              "        if (!dataTable) return;\n",
              "\n",
              "        const docLinkHtml = 'Like what you see? Visit the ' +\n",
              "          '<a target=\"_blank\" href=https://colab.research.google.com/notebooks/data_table.ipynb>data table notebook</a>'\n",
              "          + ' to learn more about interactive tables.';\n",
              "        element.innerHTML = '';\n",
              "        dataTable['output_type'] = 'display_data';\n",
              "        await google.colab.output.renderOutput(dataTable, element);\n",
              "        const docLink = document.createElement('div');\n",
              "        docLink.innerHTML = docLinkHtml;\n",
              "        element.appendChild(docLink);\n",
              "      }\n",
              "    </script>\n",
              "  </div>\n",
              "\n",
              "\n",
              "<div id=\"df-99ed47bd-fade-4766-a977-d71d176610a1\">\n",
              "  <button class=\"colab-df-quickchart\" onclick=\"quickchart('df-99ed47bd-fade-4766-a977-d71d176610a1')\"\n",
              "            title=\"Suggest charts\"\n",
              "            style=\"display:none;\">\n",
              "\n",
              "<svg xmlns=\"http://www.w3.org/2000/svg\" height=\"24px\"viewBox=\"0 0 24 24\"\n",
              "     width=\"24px\">\n",
              "    <g>\n",
              "        <path d=\"M19 3H5c-1.1 0-2 .9-2 2v14c0 1.1.9 2 2 2h14c1.1 0 2-.9 2-2V5c0-1.1-.9-2-2-2zM9 17H7v-7h2v7zm4 0h-2V7h2v10zm4 0h-2v-4h2v4z\"/>\n",
              "    </g>\n",
              "</svg>\n",
              "  </button>\n",
              "\n",
              "<style>\n",
              "  .colab-df-quickchart {\n",
              "      --bg-color: #E8F0FE;\n",
              "      --fill-color: #1967D2;\n",
              "      --hover-bg-color: #E2EBFA;\n",
              "      --hover-fill-color: #174EA6;\n",
              "      --disabled-fill-color: #AAA;\n",
              "      --disabled-bg-color: #DDD;\n",
              "  }\n",
              "\n",
              "  [theme=dark] .colab-df-quickchart {\n",
              "      --bg-color: #3B4455;\n",
              "      --fill-color: #D2E3FC;\n",
              "      --hover-bg-color: #434B5C;\n",
              "      --hover-fill-color: #FFFFFF;\n",
              "      --disabled-bg-color: #3B4455;\n",
              "      --disabled-fill-color: #666;\n",
              "  }\n",
              "\n",
              "  .colab-df-quickchart {\n",
              "    background-color: var(--bg-color);\n",
              "    border: none;\n",
              "    border-radius: 50%;\n",
              "    cursor: pointer;\n",
              "    display: none;\n",
              "    fill: var(--fill-color);\n",
              "    height: 32px;\n",
              "    padding: 0;\n",
              "    width: 32px;\n",
              "  }\n",
              "\n",
              "  .colab-df-quickchart:hover {\n",
              "    background-color: var(--hover-bg-color);\n",
              "    box-shadow: 0 1px 2px rgba(60, 64, 67, 0.3), 0 1px 3px 1px rgba(60, 64, 67, 0.15);\n",
              "    fill: var(--button-hover-fill-color);\n",
              "  }\n",
              "\n",
              "  .colab-df-quickchart-complete:disabled,\n",
              "  .colab-df-quickchart-complete:disabled:hover {\n",
              "    background-color: var(--disabled-bg-color);\n",
              "    fill: var(--disabled-fill-color);\n",
              "    box-shadow: none;\n",
              "  }\n",
              "\n",
              "  .colab-df-spinner {\n",
              "    border: 2px solid var(--fill-color);\n",
              "    border-color: transparent;\n",
              "    border-bottom-color: var(--fill-color);\n",
              "    animation:\n",
              "      spin 1s steps(1) infinite;\n",
              "  }\n",
              "\n",
              "  @keyframes spin {\n",
              "    0% {\n",
              "      border-color: transparent;\n",
              "      border-bottom-color: var(--fill-color);\n",
              "      border-left-color: var(--fill-color);\n",
              "    }\n",
              "    20% {\n",
              "      border-color: transparent;\n",
              "      border-left-color: var(--fill-color);\n",
              "      border-top-color: var(--fill-color);\n",
              "    }\n",
              "    30% {\n",
              "      border-color: transparent;\n",
              "      border-left-color: var(--fill-color);\n",
              "      border-top-color: var(--fill-color);\n",
              "      border-right-color: var(--fill-color);\n",
              "    }\n",
              "    40% {\n",
              "      border-color: transparent;\n",
              "      border-right-color: var(--fill-color);\n",
              "      border-top-color: var(--fill-color);\n",
              "    }\n",
              "    60% {\n",
              "      border-color: transparent;\n",
              "      border-right-color: var(--fill-color);\n",
              "    }\n",
              "    80% {\n",
              "      border-color: transparent;\n",
              "      border-right-color: var(--fill-color);\n",
              "      border-bottom-color: var(--fill-color);\n",
              "    }\n",
              "    90% {\n",
              "      border-color: transparent;\n",
              "      border-bottom-color: var(--fill-color);\n",
              "    }\n",
              "  }\n",
              "</style>\n",
              "\n",
              "  <script>\n",
              "    async function quickchart(key) {\n",
              "      const quickchartButtonEl =\n",
              "        document.querySelector('#' + key + ' button');\n",
              "      quickchartButtonEl.disabled = true;  // To prevent multiple clicks.\n",
              "      quickchartButtonEl.classList.add('colab-df-spinner');\n",
              "      try {\n",
              "        const charts = await google.colab.kernel.invokeFunction(\n",
              "            'suggestCharts', [key], {});\n",
              "      } catch (error) {\n",
              "        console.error('Error during call to suggestCharts:', error);\n",
              "      }\n",
              "      quickchartButtonEl.classList.remove('colab-df-spinner');\n",
              "      quickchartButtonEl.classList.add('colab-df-quickchart-complete');\n",
              "    }\n",
              "    (() => {\n",
              "      let quickchartButtonEl =\n",
              "        document.querySelector('#df-99ed47bd-fade-4766-a977-d71d176610a1 button');\n",
              "      quickchartButtonEl.style.display =\n",
              "        google.colab.kernel.accessAllowed ? 'block' : 'none';\n",
              "    })();\n",
              "  </script>\n",
              "</div>\n",
              "\n",
              "    </div>\n",
              "  </div>\n"
            ],
            "application/vnd.google.colaboratory.intrinsic+json": {
              "type": "dataframe",
              "summary": "{\n  \"name\": \"Data\",\n  \"rows\": 5,\n  \"fields\": [\n    {\n      \"column\": \"sbp\",\n      \"properties\": {\n        \"dtype\": \"number\",\n        \"std\": 45,\n        \"min\": 108,\n        \"max\": 214,\n        \"num_unique_values\": 5,\n        \"samples\": [\n          182,\n          132,\n          108\n        ],\n        \"semantic_type\": \"\",\n        \"description\": \"\"\n      }\n    },\n    {\n      \"column\": \"tobacco\",\n      \"properties\": {\n        \"dtype\": \"number\",\n        \"std\": 2.353720459187964,\n        \"min\": 0.0,\n        \"max\": 5.4,\n        \"num_unique_values\": 5,\n        \"samples\": [\n          4.2,\n          0.0,\n          3.0\n        ],\n        \"semantic_type\": \"\",\n        \"description\": \"\"\n      }\n    },\n    {\n      \"column\": \"ldl\",\n      \"properties\": {\n        \"dtype\": \"number\",\n        \"std\": 3.685630203913572,\n        \"min\": 1.59,\n        \"max\": 11.61,\n        \"num_unique_values\": 5,\n        \"samples\": [\n          4.41,\n          4.82,\n          1.59\n        ],\n        \"semantic_type\": \"\",\n        \"description\": \"\"\n      }\n    },\n    {\n      \"column\": \"adiposity\",\n      \"properties\": {\n        \"dtype\": \"number\",\n        \"std\": 7.560770463385328,\n        \"min\": 15.23,\n        \"max\": 33.41,\n        \"num_unique_values\": 5,\n        \"samples\": [\n          32.1,\n          33.41,\n          15.23\n        ],\n        \"semantic_type\": \"\",\n        \"description\": \"\"\n      }\n    },\n    {\n      \"column\": \"famhist\",\n      \"properties\": {\n        \"dtype\": \"category\",\n        \"num_unique_values\": 2,\n        \"samples\": [\n          \"Present\",\n          \"Absent\"\n        ],\n        \"semantic_type\": \"\",\n        \"description\": \"\"\n      }\n    },\n    {\n      \"column\": \"typea\",\n      \"properties\": {\n        \"dtype\": \"number\",\n        \"std\": 10,\n        \"min\": 40,\n        \"max\": 64,\n        \"num_unique_values\": 4,\n        \"samples\": [\n          52,\n          62\n        ],\n        \"semantic_type\": \"\",\n        \"description\": \"\"\n      }\n    },\n    {\n      \"column\": \"obesity\",\n      \"properties\": {\n        \"dtype\": \"number\",\n        \"std\": 6.203370051834729,\n        \"min\": 14.7,\n        \"max\": 28.61,\n        \"num_unique_values\": 5,\n        \"samples\": [\n          28.61,\n          14.7\n        ],\n        \"semantic_type\": \"\",\n        \"description\": \"\"\n      }\n    },\n    {\n      \"column\": \"alcohol\",\n      \"properties\": {\n        \"dtype\": \"number\",\n        \"std\": 12.974582074194142,\n        \"min\": 0.0,\n        \"max\": 26.64,\n        \"num_unique_values\": 4,\n        \"samples\": [\n          18.72,\n          23.97\n        ],\n        \"semantic_type\": \"\",\n        \"description\": \"\"\n      }\n    },\n    {\n      \"column\": \"age\",\n      \"properties\": {\n        \"dtype\": \"number\",\n        \"std\": 7,\n        \"min\": 40,\n        \"max\": 58,\n        \"num_unique_values\": 5,\n        \"samples\": [\n          52,\n          46\n        ],\n        \"semantic_type\": \"\",\n        \"description\": \"\"\n      }\n    },\n    {\n      \"column\": \"chd\",\n      \"properties\": {\n        \"dtype\": \"category\",\n        \"num_unique_values\": 2,\n        \"samples\": [\n          \"Si\",\n          \"No\"\n        ],\n        \"semantic_type\": \"\",\n        \"description\": \"\"\n      }\n    }\n  ]\n}"
            }
          },
          "metadata": {},
          "execution_count": 5
        }
      ]
    },
    {
      "cell_type": "markdown",
      "source": [
        "The above code snippets gave us the first five and the last five observations from the dataset respectively."
      ],
      "metadata": {
        "id": "vpJwoj9vt5u3"
      }
    },
    {
      "cell_type": "code",
      "source": [
        "Data.shape"
      ],
      "metadata": {
        "colab": {
          "base_uri": "https://localhost:8080/"
        },
        "id": "PmSFj4Y-p_CU",
        "outputId": "6114dee5-a748-4197-f468-79dee3f3aca1"
      },
      "execution_count": null,
      "outputs": [
        {
          "output_type": "execute_result",
          "data": {
            "text/plain": [
              "(462, 10)"
            ]
          },
          "metadata": {},
          "execution_count": 6
        }
      ]
    },
    {
      "cell_type": "markdown",
      "source": [
        "The data has 462 observations on 10 variables."
      ],
      "metadata": {
        "id": "tbUEqgMVBaNr"
      }
    },
    {
      "cell_type": "markdown",
      "source": [
        "### *Statistical Summary*"
      ],
      "metadata": {
        "id": "P6VV51HbuGJ4"
      }
    },
    {
      "cell_type": "code",
      "source": [
        "Data.describe()"
      ],
      "metadata": {
        "colab": {
          "base_uri": "https://localhost:8080/",
          "height": 300
        },
        "id": "npd2R2YJqIGI",
        "outputId": "2cbdd595-3e74-42c0-9919-d826a19be686"
      },
      "execution_count": null,
      "outputs": [
        {
          "output_type": "execute_result",
          "data": {
            "text/plain": [
              "              sbp     tobacco         ldl   adiposity       typea     obesity  \\\n",
              "count  462.000000  462.000000  462.000000  462.000000  462.000000  462.000000   \n",
              "mean   138.326840    3.635649    4.740325   25.406732   53.103896   26.044113   \n",
              "std     20.496317    4.593024    2.070909    7.780699    9.817534    4.213680   \n",
              "min    101.000000    0.000000    0.980000    6.740000   13.000000   14.700000   \n",
              "25%    124.000000    0.052500    3.282500   19.775000   47.000000   22.985000   \n",
              "50%    134.000000    2.000000    4.340000   26.115000   53.000000   25.805000   \n",
              "75%    148.000000    5.500000    5.790000   31.227500   60.000000   28.497500   \n",
              "max    218.000000   31.200000   15.330000   42.490000   78.000000   46.580000   \n",
              "\n",
              "          alcohol         age  \n",
              "count  462.000000  462.000000  \n",
              "mean    17.044394   42.816017  \n",
              "std     24.481059   14.608956  \n",
              "min      0.000000   15.000000  \n",
              "25%      0.510000   31.000000  \n",
              "50%      7.510000   45.000000  \n",
              "75%     23.892500   55.000000  \n",
              "max    147.190000   64.000000  "
            ],
            "text/html": [
              "\n",
              "  <div id=\"df-324fcc2f-96a9-418a-96db-7f692cdd6394\" class=\"colab-df-container\">\n",
              "    <div>\n",
              "<style scoped>\n",
              "    .dataframe tbody tr th:only-of-type {\n",
              "        vertical-align: middle;\n",
              "    }\n",
              "\n",
              "    .dataframe tbody tr th {\n",
              "        vertical-align: top;\n",
              "    }\n",
              "\n",
              "    .dataframe thead th {\n",
              "        text-align: right;\n",
              "    }\n",
              "</style>\n",
              "<table border=\"1\" class=\"dataframe\">\n",
              "  <thead>\n",
              "    <tr style=\"text-align: right;\">\n",
              "      <th></th>\n",
              "      <th>sbp</th>\n",
              "      <th>tobacco</th>\n",
              "      <th>ldl</th>\n",
              "      <th>adiposity</th>\n",
              "      <th>typea</th>\n",
              "      <th>obesity</th>\n",
              "      <th>alcohol</th>\n",
              "      <th>age</th>\n",
              "    </tr>\n",
              "  </thead>\n",
              "  <tbody>\n",
              "    <tr>\n",
              "      <th>count</th>\n",
              "      <td>462.000000</td>\n",
              "      <td>462.000000</td>\n",
              "      <td>462.000000</td>\n",
              "      <td>462.000000</td>\n",
              "      <td>462.000000</td>\n",
              "      <td>462.000000</td>\n",
              "      <td>462.000000</td>\n",
              "      <td>462.000000</td>\n",
              "    </tr>\n",
              "    <tr>\n",
              "      <th>mean</th>\n",
              "      <td>138.326840</td>\n",
              "      <td>3.635649</td>\n",
              "      <td>4.740325</td>\n",
              "      <td>25.406732</td>\n",
              "      <td>53.103896</td>\n",
              "      <td>26.044113</td>\n",
              "      <td>17.044394</td>\n",
              "      <td>42.816017</td>\n",
              "    </tr>\n",
              "    <tr>\n",
              "      <th>std</th>\n",
              "      <td>20.496317</td>\n",
              "      <td>4.593024</td>\n",
              "      <td>2.070909</td>\n",
              "      <td>7.780699</td>\n",
              "      <td>9.817534</td>\n",
              "      <td>4.213680</td>\n",
              "      <td>24.481059</td>\n",
              "      <td>14.608956</td>\n",
              "    </tr>\n",
              "    <tr>\n",
              "      <th>min</th>\n",
              "      <td>101.000000</td>\n",
              "      <td>0.000000</td>\n",
              "      <td>0.980000</td>\n",
              "      <td>6.740000</td>\n",
              "      <td>13.000000</td>\n",
              "      <td>14.700000</td>\n",
              "      <td>0.000000</td>\n",
              "      <td>15.000000</td>\n",
              "    </tr>\n",
              "    <tr>\n",
              "      <th>25%</th>\n",
              "      <td>124.000000</td>\n",
              "      <td>0.052500</td>\n",
              "      <td>3.282500</td>\n",
              "      <td>19.775000</td>\n",
              "      <td>47.000000</td>\n",
              "      <td>22.985000</td>\n",
              "      <td>0.510000</td>\n",
              "      <td>31.000000</td>\n",
              "    </tr>\n",
              "    <tr>\n",
              "      <th>50%</th>\n",
              "      <td>134.000000</td>\n",
              "      <td>2.000000</td>\n",
              "      <td>4.340000</td>\n",
              "      <td>26.115000</td>\n",
              "      <td>53.000000</td>\n",
              "      <td>25.805000</td>\n",
              "      <td>7.510000</td>\n",
              "      <td>45.000000</td>\n",
              "    </tr>\n",
              "    <tr>\n",
              "      <th>75%</th>\n",
              "      <td>148.000000</td>\n",
              "      <td>5.500000</td>\n",
              "      <td>5.790000</td>\n",
              "      <td>31.227500</td>\n",
              "      <td>60.000000</td>\n",
              "      <td>28.497500</td>\n",
              "      <td>23.892500</td>\n",
              "      <td>55.000000</td>\n",
              "    </tr>\n",
              "    <tr>\n",
              "      <th>max</th>\n",
              "      <td>218.000000</td>\n",
              "      <td>31.200000</td>\n",
              "      <td>15.330000</td>\n",
              "      <td>42.490000</td>\n",
              "      <td>78.000000</td>\n",
              "      <td>46.580000</td>\n",
              "      <td>147.190000</td>\n",
              "      <td>64.000000</td>\n",
              "    </tr>\n",
              "  </tbody>\n",
              "</table>\n",
              "</div>\n",
              "    <div class=\"colab-df-buttons\">\n",
              "\n",
              "  <div class=\"colab-df-container\">\n",
              "    <button class=\"colab-df-convert\" onclick=\"convertToInteractive('df-324fcc2f-96a9-418a-96db-7f692cdd6394')\"\n",
              "            title=\"Convert this dataframe to an interactive table.\"\n",
              "            style=\"display:none;\">\n",
              "\n",
              "  <svg xmlns=\"http://www.w3.org/2000/svg\" height=\"24px\" viewBox=\"0 -960 960 960\">\n",
              "    <path d=\"M120-120v-720h720v720H120Zm60-500h600v-160H180v160Zm220 220h160v-160H400v160Zm0 220h160v-160H400v160ZM180-400h160v-160H180v160Zm440 0h160v-160H620v160ZM180-180h160v-160H180v160Zm440 0h160v-160H620v160Z\"/>\n",
              "  </svg>\n",
              "    </button>\n",
              "\n",
              "  <style>\n",
              "    .colab-df-container {\n",
              "      display:flex;\n",
              "      gap: 12px;\n",
              "    }\n",
              "\n",
              "    .colab-df-convert {\n",
              "      background-color: #E8F0FE;\n",
              "      border: none;\n",
              "      border-radius: 50%;\n",
              "      cursor: pointer;\n",
              "      display: none;\n",
              "      fill: #1967D2;\n",
              "      height: 32px;\n",
              "      padding: 0 0 0 0;\n",
              "      width: 32px;\n",
              "    }\n",
              "\n",
              "    .colab-df-convert:hover {\n",
              "      background-color: #E2EBFA;\n",
              "      box-shadow: 0px 1px 2px rgba(60, 64, 67, 0.3), 0px 1px 3px 1px rgba(60, 64, 67, 0.15);\n",
              "      fill: #174EA6;\n",
              "    }\n",
              "\n",
              "    .colab-df-buttons div {\n",
              "      margin-bottom: 4px;\n",
              "    }\n",
              "\n",
              "    [theme=dark] .colab-df-convert {\n",
              "      background-color: #3B4455;\n",
              "      fill: #D2E3FC;\n",
              "    }\n",
              "\n",
              "    [theme=dark] .colab-df-convert:hover {\n",
              "      background-color: #434B5C;\n",
              "      box-shadow: 0px 1px 3px 1px rgba(0, 0, 0, 0.15);\n",
              "      filter: drop-shadow(0px 1px 2px rgba(0, 0, 0, 0.3));\n",
              "      fill: #FFFFFF;\n",
              "    }\n",
              "  </style>\n",
              "\n",
              "    <script>\n",
              "      const buttonEl =\n",
              "        document.querySelector('#df-324fcc2f-96a9-418a-96db-7f692cdd6394 button.colab-df-convert');\n",
              "      buttonEl.style.display =\n",
              "        google.colab.kernel.accessAllowed ? 'block' : 'none';\n",
              "\n",
              "      async function convertToInteractive(key) {\n",
              "        const element = document.querySelector('#df-324fcc2f-96a9-418a-96db-7f692cdd6394');\n",
              "        const dataTable =\n",
              "          await google.colab.kernel.invokeFunction('convertToInteractive',\n",
              "                                                    [key], {});\n",
              "        if (!dataTable) return;\n",
              "\n",
              "        const docLinkHtml = 'Like what you see? Visit the ' +\n",
              "          '<a target=\"_blank\" href=https://colab.research.google.com/notebooks/data_table.ipynb>data table notebook</a>'\n",
              "          + ' to learn more about interactive tables.';\n",
              "        element.innerHTML = '';\n",
              "        dataTable['output_type'] = 'display_data';\n",
              "        await google.colab.output.renderOutput(dataTable, element);\n",
              "        const docLink = document.createElement('div');\n",
              "        docLink.innerHTML = docLinkHtml;\n",
              "        element.appendChild(docLink);\n",
              "      }\n",
              "    </script>\n",
              "  </div>\n",
              "\n",
              "\n",
              "<div id=\"df-52073c49-c9d4-416d-b549-b165f5455d6b\">\n",
              "  <button class=\"colab-df-quickchart\" onclick=\"quickchart('df-52073c49-c9d4-416d-b549-b165f5455d6b')\"\n",
              "            title=\"Suggest charts\"\n",
              "            style=\"display:none;\">\n",
              "\n",
              "<svg xmlns=\"http://www.w3.org/2000/svg\" height=\"24px\"viewBox=\"0 0 24 24\"\n",
              "     width=\"24px\">\n",
              "    <g>\n",
              "        <path d=\"M19 3H5c-1.1 0-2 .9-2 2v14c0 1.1.9 2 2 2h14c1.1 0 2-.9 2-2V5c0-1.1-.9-2-2-2zM9 17H7v-7h2v7zm4 0h-2V7h2v10zm4 0h-2v-4h2v4z\"/>\n",
              "    </g>\n",
              "</svg>\n",
              "  </button>\n",
              "\n",
              "<style>\n",
              "  .colab-df-quickchart {\n",
              "      --bg-color: #E8F0FE;\n",
              "      --fill-color: #1967D2;\n",
              "      --hover-bg-color: #E2EBFA;\n",
              "      --hover-fill-color: #174EA6;\n",
              "      --disabled-fill-color: #AAA;\n",
              "      --disabled-bg-color: #DDD;\n",
              "  }\n",
              "\n",
              "  [theme=dark] .colab-df-quickchart {\n",
              "      --bg-color: #3B4455;\n",
              "      --fill-color: #D2E3FC;\n",
              "      --hover-bg-color: #434B5C;\n",
              "      --hover-fill-color: #FFFFFF;\n",
              "      --disabled-bg-color: #3B4455;\n",
              "      --disabled-fill-color: #666;\n",
              "  }\n",
              "\n",
              "  .colab-df-quickchart {\n",
              "    background-color: var(--bg-color);\n",
              "    border: none;\n",
              "    border-radius: 50%;\n",
              "    cursor: pointer;\n",
              "    display: none;\n",
              "    fill: var(--fill-color);\n",
              "    height: 32px;\n",
              "    padding: 0;\n",
              "    width: 32px;\n",
              "  }\n",
              "\n",
              "  .colab-df-quickchart:hover {\n",
              "    background-color: var(--hover-bg-color);\n",
              "    box-shadow: 0 1px 2px rgba(60, 64, 67, 0.3), 0 1px 3px 1px rgba(60, 64, 67, 0.15);\n",
              "    fill: var(--button-hover-fill-color);\n",
              "  }\n",
              "\n",
              "  .colab-df-quickchart-complete:disabled,\n",
              "  .colab-df-quickchart-complete:disabled:hover {\n",
              "    background-color: var(--disabled-bg-color);\n",
              "    fill: var(--disabled-fill-color);\n",
              "    box-shadow: none;\n",
              "  }\n",
              "\n",
              "  .colab-df-spinner {\n",
              "    border: 2px solid var(--fill-color);\n",
              "    border-color: transparent;\n",
              "    border-bottom-color: var(--fill-color);\n",
              "    animation:\n",
              "      spin 1s steps(1) infinite;\n",
              "  }\n",
              "\n",
              "  @keyframes spin {\n",
              "    0% {\n",
              "      border-color: transparent;\n",
              "      border-bottom-color: var(--fill-color);\n",
              "      border-left-color: var(--fill-color);\n",
              "    }\n",
              "    20% {\n",
              "      border-color: transparent;\n",
              "      border-left-color: var(--fill-color);\n",
              "      border-top-color: var(--fill-color);\n",
              "    }\n",
              "    30% {\n",
              "      border-color: transparent;\n",
              "      border-left-color: var(--fill-color);\n",
              "      border-top-color: var(--fill-color);\n",
              "      border-right-color: var(--fill-color);\n",
              "    }\n",
              "    40% {\n",
              "      border-color: transparent;\n",
              "      border-right-color: var(--fill-color);\n",
              "      border-top-color: var(--fill-color);\n",
              "    }\n",
              "    60% {\n",
              "      border-color: transparent;\n",
              "      border-right-color: var(--fill-color);\n",
              "    }\n",
              "    80% {\n",
              "      border-color: transparent;\n",
              "      border-right-color: var(--fill-color);\n",
              "      border-bottom-color: var(--fill-color);\n",
              "    }\n",
              "    90% {\n",
              "      border-color: transparent;\n",
              "      border-bottom-color: var(--fill-color);\n",
              "    }\n",
              "  }\n",
              "</style>\n",
              "\n",
              "  <script>\n",
              "    async function quickchart(key) {\n",
              "      const quickchartButtonEl =\n",
              "        document.querySelector('#' + key + ' button');\n",
              "      quickchartButtonEl.disabled = true;  // To prevent multiple clicks.\n",
              "      quickchartButtonEl.classList.add('colab-df-spinner');\n",
              "      try {\n",
              "        const charts = await google.colab.kernel.invokeFunction(\n",
              "            'suggestCharts', [key], {});\n",
              "      } catch (error) {\n",
              "        console.error('Error during call to suggestCharts:', error);\n",
              "      }\n",
              "      quickchartButtonEl.classList.remove('colab-df-spinner');\n",
              "      quickchartButtonEl.classList.add('colab-df-quickchart-complete');\n",
              "    }\n",
              "    (() => {\n",
              "      let quickchartButtonEl =\n",
              "        document.querySelector('#df-52073c49-c9d4-416d-b549-b165f5455d6b button');\n",
              "      quickchartButtonEl.style.display =\n",
              "        google.colab.kernel.accessAllowed ? 'block' : 'none';\n",
              "    })();\n",
              "  </script>\n",
              "</div>\n",
              "\n",
              "    </div>\n",
              "  </div>\n"
            ],
            "application/vnd.google.colaboratory.intrinsic+json": {
              "type": "dataframe",
              "summary": "{\n  \"name\": \"Data\",\n  \"rows\": 8,\n  \"fields\": [\n    {\n      \"column\": \"sbp\",\n      \"properties\": {\n        \"dtype\": \"number\",\n        \"std\": 130.68742282570946,\n        \"min\": 20.496317175467627,\n        \"max\": 462.0,\n        \"num_unique_values\": 8,\n        \"samples\": [\n          138.32683982683983,\n          134.0,\n          462.0\n        ],\n        \"semantic_type\": \"\",\n        \"description\": \"\"\n      }\n    },\n    {\n      \"column\": \"tobacco\",\n      \"properties\": {\n        \"dtype\": \"number\",\n        \"std\": 161.29089833920912,\n        \"min\": 0.0,\n        \"max\": 462.0,\n        \"num_unique_values\": 8,\n        \"samples\": [\n          3.635649350649351,\n          2.0,\n          462.0\n        ],\n        \"semantic_type\": \"\",\n        \"description\": \"\"\n      }\n    },\n    {\n      \"column\": \"ldl\",\n      \"properties\": {\n        \"dtype\": \"number\",\n        \"std\": 161.55621652160278,\n        \"min\": 0.98,\n        \"max\": 462.0,\n        \"num_unique_values\": 8,\n        \"samples\": [\n          4.740324675324675,\n          4.34,\n          462.0\n        ],\n        \"semantic_type\": \"\",\n        \"description\": \"\"\n      }\n    },\n    {\n      \"column\": \"adiposity\",\n      \"properties\": {\n        \"dtype\": \"number\",\n        \"std\": 155.72909669661664,\n        \"min\": 6.74,\n        \"max\": 462.0,\n        \"num_unique_values\": 8,\n        \"samples\": [\n          25.4067316017316,\n          26.115000000000002,\n          462.0\n        ],\n        \"semantic_type\": \"\",\n        \"description\": \"\"\n      }\n    },\n    {\n      \"column\": \"typea\",\n      \"properties\": {\n        \"dtype\": \"number\",\n        \"std\": 149.27187541208806,\n        \"min\": 9.817534115584078,\n        \"max\": 462.0,\n        \"num_unique_values\": 8,\n        \"samples\": [\n          53.103896103896105,\n          53.0,\n          462.0\n        ],\n        \"semantic_type\": \"\",\n        \"description\": \"\"\n      }\n    },\n    {\n      \"column\": \"obesity\",\n      \"properties\": {\n        \"dtype\": \"number\",\n        \"std\": 155.28296029438135,\n        \"min\": 4.2136802268977664,\n        \"max\": 462.0,\n        \"num_unique_values\": 8,\n        \"samples\": [\n          26.04411255411255,\n          25.805,\n          462.0\n        ],\n        \"semantic_type\": \"\",\n        \"description\": \"\"\n      }\n    },\n    {\n      \"column\": \"alcohol\",\n      \"properties\": {\n        \"dtype\": \"number\",\n        \"std\": 159.63289414041645,\n        \"min\": 0.0,\n        \"max\": 462.0,\n        \"num_unique_values\": 8,\n        \"samples\": [\n          17.044393939393935,\n          7.51,\n          462.0\n        ],\n        \"semantic_type\": \"\",\n        \"description\": \"\"\n      }\n    },\n    {\n      \"column\": \"age\",\n      \"properties\": {\n        \"dtype\": \"number\",\n        \"std\": 150.86182604527482,\n        \"min\": 14.608956444552494,\n        \"max\": 462.0,\n        \"num_unique_values\": 8,\n        \"samples\": [\n          42.816017316017316,\n          45.0,\n          462.0\n        ],\n        \"semantic_type\": \"\",\n        \"description\": \"\"\n      }\n    }\n  ]\n}"
            }
          },
          "metadata": {},
          "execution_count": 7
        }
      ]
    },
    {
      "cell_type": "markdown",
      "source": [
        "462 samples are provided in this data concerning with 10 variables listed above.\n",
        "\n",
        "The average tobacco consumption is 3.63 kg.\n",
        "\n",
        "Males around an average age of 43 years are a part of this dataset including a wide range of young males of 15 years to old of 64 years.\n",
        "\n",
        "Some people are found to be neither tobacco nor alcohol consumer, but are still in a dataset of heart disease with high risk, and that gives us the reason to dive deep into the underlying reasons behind it.\n",
        "\n",
        "Furthermore, we can can infer that:\n",
        "\n",
        "*   Only 25% of samples have ldl over 5.79.\n",
        "*   Only 25% of samples have tobacco over 5.50.\n",
        "*   The mean consumption of alcohol is 17.044%.\n",
        "*   The average obesity of the samples is 26.044%.\n"
      ],
      "metadata": {
        "id": "3NnlZDIyqCYs"
      }
    },
    {
      "cell_type": "markdown",
      "source": [
        "### *Null and Zero values*"
      ],
      "metadata": {
        "id": "QBequiqntEnp"
      }
    },
    {
      "cell_type": "code",
      "source": [
        "# Checking for null values if any\n",
        "null_values = Data.isnull().sum()\n",
        "\n",
        "# Total count of null values for each column\n",
        "print(\"Null Values:\")\n",
        "print(null_values)"
      ],
      "metadata": {
        "colab": {
          "base_uri": "https://localhost:8080/"
        },
        "id": "1NPkPHHUdLZ4",
        "outputId": "b084edcd-c99a-4ce9-ff50-40fd0a3ee67a"
      },
      "execution_count": null,
      "outputs": [
        {
          "output_type": "stream",
          "name": "stdout",
          "text": [
            "Null Values:\n",
            "sbp          0\n",
            "tobacco      0\n",
            "ldl          0\n",
            "adiposity    0\n",
            "famhist      0\n",
            "typea        0\n",
            "obesity      0\n",
            "alcohol      0\n",
            "age          0\n",
            "chd          0\n",
            "dtype: int64\n"
          ]
        }
      ]
    },
    {
      "cell_type": "markdown",
      "source": [
        "The data doesn't contain any null values."
      ],
      "metadata": {
        "id": "2qpsS1KPf_ke"
      }
    },
    {
      "cell_type": "code",
      "source": [
        "# Checking for the columns that contains zeros\n",
        "col_0 = Data.columns[(Data == 0).any()]\n",
        "print(col_0)"
      ],
      "metadata": {
        "colab": {
          "base_uri": "https://localhost:8080/"
        },
        "id": "IPL0bgT1Pnqx",
        "outputId": "6516ce2f-5b5e-46ae-e6af-d807f0982a55"
      },
      "execution_count": null,
      "outputs": [
        {
          "output_type": "stream",
          "name": "stdout",
          "text": [
            "Index(['tobacco', 'alcohol'], dtype='object')\n"
          ]
        }
      ]
    },
    {
      "cell_type": "markdown",
      "source": [
        "Only the columns with variables \"tobacco\" and \"alcohol\" contains zero values, but the zeros have meaning in the data, it is that the person who doesn't consume alcohol or tobacco comes under this category."
      ],
      "metadata": {
        "id": "JCxpPkgDgy-W"
      }
    },
    {
      "cell_type": "markdown",
      "source": [
        "### *Variable Information*"
      ],
      "metadata": {
        "id": "bBP6M8LLulnK"
      }
    },
    {
      "cell_type": "code",
      "source": [
        "Data.info()"
      ],
      "metadata": {
        "colab": {
          "base_uri": "https://localhost:8080/"
        },
        "id": "ok3vRIgrRv_O",
        "outputId": "2caa3dea-9c22-4f09-8396-0ac091931f0a"
      },
      "execution_count": null,
      "outputs": [
        {
          "output_type": "stream",
          "name": "stdout",
          "text": [
            "<class 'pandas.core.frame.DataFrame'>\n",
            "RangeIndex: 462 entries, 0 to 461\n",
            "Data columns (total 10 columns):\n",
            " #   Column     Non-Null Count  Dtype  \n",
            "---  ------     --------------  -----  \n",
            " 0   sbp        462 non-null    int64  \n",
            " 1   tobacco    462 non-null    float64\n",
            " 2   ldl        462 non-null    float64\n",
            " 3   adiposity  462 non-null    float64\n",
            " 4   famhist    462 non-null    object \n",
            " 5   typea      462 non-null    int64  \n",
            " 6   obesity    462 non-null    float64\n",
            " 7   alcohol    462 non-null    float64\n",
            " 8   age        462 non-null    int64  \n",
            " 9   chd        462 non-null    object \n",
            "dtypes: float64(5), int64(3), object(2)\n",
            "memory usage: 36.2+ KB\n"
          ]
        }
      ]
    },
    {
      "cell_type": "markdown",
      "source": [
        "Except 'Family history' and 'Coronary heart disease', all the other variables are numeric in nature. The rest two fall under categorical category, where categories can be assigned 0 and 1 to change them to numeric."
      ],
      "metadata": {
        "id": "zVW7NnOjurCD"
      }
    },
    {
      "cell_type": "code",
      "source": [
        "Data['chd'].value_counts()"
      ],
      "metadata": {
        "colab": {
          "base_uri": "https://localhost:8080/"
        },
        "id": "EpzXF_hlSueo",
        "outputId": "94088357-29cb-4fd1-8829-298f6c6dae7b"
      },
      "execution_count": null,
      "outputs": [
        {
          "output_type": "execute_result",
          "data": {
            "text/plain": [
              "chd\n",
              "No    302\n",
              "Si    160\n",
              "Name: count, dtype: int64"
            ]
          },
          "metadata": {},
          "execution_count": 11
        }
      ]
    },
    {
      "cell_type": "markdown",
      "source": [
        "Here, there were 160 people who underwent coronary heart disease(CHD) and the remaining 302 persons don't have coronary heart disease(CHD)."
      ],
      "metadata": {
        "id": "2AhdEyUijODT"
      }
    },
    {
      "cell_type": "code",
      "source": [
        "Data['famhist'].value_counts()"
      ],
      "metadata": {
        "colab": {
          "base_uri": "https://localhost:8080/"
        },
        "id": "4kDmIBwOS2Ct",
        "outputId": "636adc82-038d-424b-ab34-5ced48f8a6a4"
      },
      "execution_count": null,
      "outputs": [
        {
          "output_type": "execute_result",
          "data": {
            "text/plain": [
              "famhist\n",
              "Absent     270\n",
              "Present    192\n",
              "Name: count, dtype: int64"
            ]
          },
          "metadata": {},
          "execution_count": 12
        }
      ]
    },
    {
      "cell_type": "markdown",
      "source": [
        "In the family history of coronary heart disease there are 192 present cases and 270 absent cases."
      ],
      "metadata": {
        "id": "Ax_9_uelkIjE"
      }
    },
    {
      "cell_type": "markdown",
      "source": [
        "### *Graphical Representation*\n",
        "\n",
        "###Pi-chart for the variables 'chd' and 'famhist'"
      ],
      "metadata": {
        "id": "WzBoJmkKkuW_"
      }
    },
    {
      "cell_type": "code",
      "source": [
        "famhist_counts = Data['famhist'].value_counts()\n",
        "chd_counts = Data['chd'].value_counts()\n",
        "\n",
        "# Plot pie chart for 'famhist'\n",
        "plt.figure(figsize=(8, 4))\n",
        "plt.subplot(1, 2, 1)\n",
        "plt.pie(famhist_counts, labels=famhist_counts.index, autopct='%1.1f%%', colors=['skyblue', 'salmon'])\n",
        "plt.title('Distribution of Family History of CHD')\n",
        "\n",
        "# Plot pie chart for 'chd'\n",
        "plt.subplot(1, 2, 2)\n",
        "plt.pie(chd_counts, labels=chd_counts.index, autopct='%1.1f%%', colors=['lightgreen', 'lightcoral'])\n",
        "plt.title('Distribution of CHD (Coronary Heart Disease)')\n",
        "\n",
        "plt.tight_layout()\n",
        "plt.show()"
      ],
      "metadata": {
        "colab": {
          "base_uri": "https://localhost:8080/",
          "height": 420
        },
        "id": "uipHz3Vr5s2V",
        "outputId": "e898ede4-03a9-4991-b8e2-6c7a85f6bf1d"
      },
      "execution_count": null,
      "outputs": [
        {
          "output_type": "display_data",
          "data": {
            "text/plain": [
              "<Figure size 800x400 with 2 Axes>"
            ],
            "image/png": "[encoded data removed]"
          },
          "metadata": {}
        }
      ]
    },
    {
      "cell_type": "markdown",
      "source": [
        "The variables \"chd\" and \"famhist\" is visualized separately via pi-charts.\n",
        "\n",
        "It is seen that the number of people who don't have chd(65.4%) is more than those who have chd(34.6%), also in the distribution of family history the no.of absent cases(58.4) outranges the present cases(41.6%).\n",
        "\n",
        "#### *Box-plot of age of males in having being affected with the coronary heart disease*"
      ],
      "metadata": {
        "id": "Po1wCprJk-Ir"
      }
    },
    {
      "cell_type": "code",
      "source": [
        "plt.figure(figsize=(8, 6))\n",
        "sns.boxplot(x='chd', y='age', data=Data)\n",
        "plt.title('Age Distribution by CHD Status')\n",
        "plt.xlabel('CHD')\n",
        "plt.ylabel('Age')\n",
        "plt.show()"
      ],
      "metadata": {
        "colab": {
          "base_uri": "https://localhost:8080/",
          "height": 564
        },
        "id": "mABIBTccuPRl",
        "outputId": "3100fb86-7d42-4118-a164-df2b84eec9e9"
      },
      "execution_count": null,
      "outputs": [
        {
          "output_type": "display_data",
          "data": {
            "text/plain": [
              "<Figure size 800x600 with 1 Axes>"
            ],
            "image/png": "[encoded data removed]"
          },
          "metadata": {}
        }
      ]
    },
    {
      "cell_type": "markdown",
      "source": [
        "Based on the above boxplot for the age distribution by chd, the people who are aged above 40 are likely to have chd, than those below the age 40.\n",
        "\n",
        "The distribution of age among people not having the disease is wider, that means it's not a prenotioned thing that older people are more prone to heart diseases and are more likely, there are cases contradicting it.\n",
        "Again, for the plot showing Si(having heart disease) there is an outlier who is a person of around age 15, rare but still belongs to the category.\n",
        "\n",
        "#### *Box-plot of tobacco consumption relating with the coronary heart disease*"
      ],
      "metadata": {
        "id": "juwlBb8UI2s5"
      }
    },
    {
      "cell_type": "code",
      "source": [
        "colors = ['green', 'blue']\n",
        "plt.figure(figsize=(10, 6))\n",
        "sns.boxplot(x='chd', y='tobacco', hue = 'chd', data=Data, palette = ['green', 'blue'], legend = False)\n",
        "plt.title('Tobacco Distribution by CHD Status')\n",
        "plt.xlabel('CHD')\n",
        "plt.ylabel('Tobacco')\n",
        "plt.show()"
      ],
      "metadata": {
        "colab": {
          "base_uri": "https://localhost:8080/",
          "height": 564
        },
        "id": "5Lj4cTm7uddN",
        "outputId": "f64eae48-556b-481d-dd8a-a5c708d78973"
      },
      "execution_count": null,
      "outputs": [
        {
          "output_type": "display_data",
          "data": {
            "text/plain": [
              "<Figure size 1000x600 with 1 Axes>"
            ],
            "image/png": "[encoded data removed]"
          },
          "metadata": {}
        }
      ]
    },
    {
      "cell_type": "markdown",
      "source": [
        "From the box plot, we observe that individuals with coronary heart disease (CHD) tend to have higher levels of tobacco consumption compared to those without CHD. This suggests a potential association between tobacco use and the risk of developing CHD."
      ],
      "metadata": {
        "id": "cAO-Cqsa9fLY"
      }
    },
    {
      "cell_type": "markdown",
      "source": [
        "#### *Correlation matrix*"
      ],
      "metadata": {
        "id": "EUEgiaPILTOG"
      }
    },
    {
      "cell_type": "code",
      "source": [
        "correlation_matrix = Data.corr(numeric_only = True)\n",
        "plt.figure(figsize=(10, 8))\n",
        "sns.heatmap(correlation_matrix, annot=True, cmap='coolwarm', fmt=\".2f\")\n",
        "plt.title('Correlation Heatmap')\n",
        "plt.show()"
      ],
      "metadata": {
        "id": "xW_fytt6uSHP",
        "colab": {
          "base_uri": "https://localhost:8080/",
          "height": 699
        },
        "outputId": "00127b05-49cf-4f2d-854e-d1a8e44cdc9f"
      },
      "execution_count": null,
      "outputs": [
        {
          "output_type": "display_data",
          "data": {
            "text/plain": [
              "<Figure size 1000x800 with 2 Axes>"
            ],
            "image/png": "[encoded data removed]"
          },
          "metadata": {}
        }
      ]
    },
    {
      "cell_type": "markdown",
      "source": [
        "1. The correlation matrix for the nominal variables is shown via heatmap. We know that the range of the correlation is -1 to 1; the dark blue indicates \"0\", which means that the variables are not correlated and red indicates \"1\", which means that the variables are highly correlated.\n",
        "\n",
        "2. A moderate to strong postive correlation can be seen between the variables obesity and adiposity, age and adiposity whose values are **0.72** and **0.63** respectively. This shows as age increases it gives raise to adiposity and obesity."
      ],
      "metadata": {
        "id": "N032a7PdJf4N"
      }
    },
    {
      "cell_type": "markdown",
      "source": [
        "#### ***Independent sample t-test***"
      ],
      "metadata": {
        "id": "qYP1JxHHLfhh"
      }
    },
    {
      "cell_type": "markdown",
      "source": [
        "Testing for the significance on adiposity levels on individuals with CHD.\n",
        "\n",
        "1.  We first extract the adiposity levels for individuals with and without CHD by filtering the data based on the 'chd' column.\n",
        "\n",
        "2.  We then use the \"ttest_ind\" function to perform the independent samples t-test between the two groups.\n",
        "\n",
        "3.  The t_statistic represents the calculated t-statistic value, and the p_value represents the probability of observing the given results if the null hypothesis (no difference in means) is true.\n",
        "\n",
        "4.  Finally, we interpret the results based on the p-value. If the p-value is less than the chosen significance level (alpha), typically 0.05, we reject the null hypothesis and conclude that there is a statistically significant difference in adiposity levels between individuals with and without CHD. Otherwise, we fail to reject the null hypothesis. Adjust the alpha value as needed based on your desired level of significance."
      ],
      "metadata": {
        "id": "nKvR2zREDKde"
      }
    },
    {
      "cell_type": "code",
      "source": [
        "from scipy.stats import ttest_ind\n",
        "\n",
        "# Extract adiposity levels for individuals with and without CHD\n",
        "adiposity_no_chd = Data[Data['chd'] == 'No']['adiposity']\n",
        "adiposity_si_chd = Data[Data['chd'] == 'Si']['adiposity']\n",
        "\n",
        "# Perform t-test\n",
        "t_statistic, p_value = ttest_ind(adiposity_no_chd, adiposity_si_chd)\n",
        "\n",
        "# Results\n",
        "print(\"T-Statistic:\", t_statistic)\n",
        "print(\"P-Value:\", p_value)\n",
        "\n",
        "# Interpretation\n",
        "alpha = 0.05\n",
        "if p_value < alpha:\n",
        "    print(\"Alternative hypothesis: There is a statistically significant difference in adiposity levels between individuals with and without CHD.\")\n",
        "else:\n",
        "    print(\"Null hypothesis: There is no statistically significant difference in adiposity levels between individuals with and without CHD.\")"
      ],
      "metadata": {
        "id": "5ZIRKqVdOMIT",
        "colab": {
          "base_uri": "https://localhost:8080/"
        },
        "outputId": "240ca3a6-ca77-4ca0-ec5e-3b7df6944794"
      },
      "execution_count": null,
      "outputs": [
        {
          "output_type": "stream",
          "name": "stdout",
          "text": [
            "T-Statistic: -5.635290062988449\n",
            "P-Value: 3.050507732724932e-08\n",
            "Alternative hypothesis: There is a statistically significant difference in adiposity levels between individuals with and without CHD.\n"
          ]
        }
      ]
    },
    {
      "cell_type": "markdown",
      "source": [
        "The p-value is less than the significance level, so we reject the null hypothesis and conclude that there is a significant difference in adiposity levels between individuals with and without CHD."
      ],
      "metadata": {
        "id": "rzwjCdGGh4N5"
      }
    },
    {
      "cell_type": "markdown",
      "source": [
        "Testing for the significance on SBP levels on individuals with CHD.\n",
        "\n",
        "*   We first extract the SBP levels for individuals with and without CHD by filtering the DataFrame based on the 'chd' column.\n",
        "\n",
        "*   We then use the ttest_ind function to perform the independent samples t-test between the two groups.\n",
        "\n",
        "*   The t_statistic represents the calculated t-statistic value, and the p_value represents the probability of observing the given results if the null hypothesis (no difference in means) is true.\n",
        "\n",
        "*   Finally, we interpret the results based on the p-value. If the p-value is less than the chosen significance level (alpha), typically 0.05, we reject the null hypothesis and conclude that there is a statistically significant difference in SBP levels between individuals with and without CHD. Otherwise, we fail to reject the null hypothesis. Adjust the alpha value as needed based on your desired level of significance.\n"
      ],
      "metadata": {
        "id": "Bl1VHxp4DbhC"
      }
    },
    {
      "cell_type": "code",
      "source": [
        "# Extract SBP levels for individuals with and without CHD\n",
        "sbp_no_chd = Data[Data['chd'] == 'No']['sbp']\n",
        "sbp_si_chd = Data[Data['chd'] == 'Si']['sbp']\n",
        "\n",
        "# Perform t-test\n",
        "t_statistic, p_value = ttest_ind(sbp_no_chd, sbp_si_chd)\n",
        "\n",
        "# Results\n",
        "print(\"T-Statistic:\", t_statistic)\n",
        "print(\"P-Value:\", p_value)\n",
        "\n",
        "# Interpretation\n",
        "alpha = 0.05\n",
        "if p_value < alpha:\n",
        "    print(\"Alternative hypothesis: There is a statistically significant difference in SBP levels between individuals with and without CHD.\")\n",
        "else:\n",
        "    print(\"Null hypothesis: There is no statistically significant difference in SBP levels between individuals with and without CHD.\")"
      ],
      "metadata": {
        "id": "4Dhjq9spaHxQ",
        "colab": {
          "base_uri": "https://localhost:8080/"
        },
        "outputId": "08140651-b714-4eeb-fecf-8e1c379d4083"
      },
      "execution_count": null,
      "outputs": [
        {
          "output_type": "stream",
          "name": "stdout",
          "text": [
            "T-Statistic: -4.204044124452311\n",
            "P-Value: 3.151599323951774e-05\n",
            "Alternative hypothesis: There is a statistically significant difference in SBP levels between individuals with and without CHD.\n"
          ]
        }
      ]
    },
    {
      "cell_type": "markdown",
      "source": [
        "Here the p-value is less than the significance level, so the null hypothesis gets rejected and we conclude that there exists a significant difference in sbp levels between individuals with and without CHD.\n",
        "\n",
        "\n",
        "\n"
      ],
      "metadata": {
        "id": "9Cq-BkatiGCe"
      }
    },
    {
      "cell_type": "code",
      "source": [
        "# Create a contingency table between 'famhist' and 'chd'\n",
        "contingency_table = pd.crosstab(Data['famhist'], Data['chd'])\n",
        "\n",
        "# pie chart\n",
        "plt.figure(figsize=(8, 6))\n",
        "\n",
        "# Plot 'Si' category of 'chd'\n",
        "plt.subplot(1, 2, 1)\n",
        "plt.pie(contingency_table['Si'], labels=contingency_table.index, autopct='%1.1f%%', colors=['Red', 'Orange'])\n",
        "plt.title('CHD - Si')\n",
        "\n",
        "# Plot 'No' category of 'chd'\n",
        "plt.subplot(1, 2, 2)\n",
        "plt.pie(contingency_table['No'], labels=contingency_table.index, autopct='%1.1f%%', colors=['Red', 'Orange'])\n",
        "plt.title('CHD - No')\n",
        "\n",
        "plt.tight_layout()\n",
        "plt.show()\n"
      ],
      "metadata": {
        "id": "qKzpLkbMXrTw",
        "colab": {
          "base_uri": "https://localhost:8080/",
          "height": 436
        },
        "outputId": "3220570f-bfc5-43e5-deeb-54c9febdec12"
      },
      "execution_count": null,
      "outputs": [
        {
          "output_type": "display_data",
          "data": {
            "text/plain": [
              "<Figure size 800x600 with 2 Axes>"
            ],
            "image/png": "[encoded data removed]"
          },
          "metadata": {}
        }
      ]
    },
    {
      "cell_type": "markdown",
      "source": [
        "The pie chart is for comparing the distribution of 'famhist' (Family History of Coronary Heart Disease) within each category of 'chd' (Coronary Heart Disease), we can make the following observations:\n",
        "\n",
        "####CHD - Si Pie Chart:\n",
        "\n",
        "The pie chart on the left represents the distribution of 'famhist' categories ('Present' and 'Absent') among individuals who have Coronary Heart Disease (CHD).\n",
        "We can see the proportions of individuals with and without a family history of CHD among those who have CHD.\n",
        "\n",
        "\n",
        "####CHD - No Pie Chart:\n",
        "\n",
        "The pie chart on the right represents the distribution of 'famhist' categories ('Present' and 'Absent') among individuals who do not have Coronary Heart Disease (CHD).\n",
        "We can see the proportions of individuals with and without a family history of CHD among those who do not have CHD.\n",
        "\n",
        "\n",
        "Based on these observations, we can make conclusions regarding the relationship between family history of CHD ('famhist') and the presence or absence of CHD ('chd').\n",
        "\n",
        "**For example:**\n",
        "If there is a significant difference in the proportions of 'Present' and 'Absent' categories within each category of 'chd', it may suggest a relationship between family history and the presence of CHD.\n",
        "\n",
        "\n",
        "If the proportions are similar across both categories of 'chd', it may indicate that family history is not a strong predictor of CHD in this dataset.\n",
        "\n",
        "**From the pie chart there is a clear indicator that there is a significant difference in the proportions of 'Present' and 'Absent' categories within each category of 'chd'.**\n",
        "\n",
        "But it's important to perform statistical tests, such as chi-square tests, to validate any conclusions drawn from the visualization."
      ],
      "metadata": {
        "id": "hi0jOAqEhKVc"
      }
    },
    {
      "cell_type": "markdown",
      "source": [
        "#### *Chisquare test for the comparision of two categorical variables*"
      ],
      "metadata": {
        "id": "Xpf_qaaovnKv"
      }
    },
    {
      "cell_type": "markdown",
      "source": [
        "1. We first create a contingency table using pd.crosstab() between the categorical variables 'chd' and 'famhist'.\n",
        "\n",
        "2. We then use the chi2_contingency function to perform the chi-square test of independence.\n",
        "\n",
        "3. The chi2_statistic represents the calculated chi-square test statistic, and the p_value represents the probability of observing the given results if the null hypothesis (no relationship between the variables) is true.\n",
        "\n",
        "4. The dof represents the degrees of freedom, and expected represents the expected frequencies under the null hypothesis.\n",
        "\n",
        "5. Finally, we interpret the results based on the p-value. If the p-value is less than the chosen significance level (alpha), typically 0.05, we reject the null hypothesis and conclude that there is a relationship between 'chd' and 'famhist'. Otherwise, we fail to reject the null hypothesis. Adjust the alpha value as needed based on your desired level of significance."
      ],
      "metadata": {
        "id": "hBTa9OXRD73y"
      }
    },
    {
      "cell_type": "code",
      "source": [
        "from scipy.stats import chi2_contingency\n",
        "\n",
        "# chi-square test\n",
        "chi2_statistic, p_value, dof, expected = chi2_contingency(contingency_table)\n",
        "\n",
        "# Results\n",
        "print(\"Chi-square Statistic:\", chi2_statistic)\n",
        "print(\"P-Value:\", p_value)\n",
        "print(\"Degrees of Freedom:\", dof)\n",
        "print(\"Expected Frequencies:\\n\", expected)\n",
        "\n",
        "# Interpretation\n",
        "alpha = 0.05\n",
        "if p_value < alpha:\n",
        "    print(\"Alternative hypothesis: There is a relationship between 'chd' and 'famhist'.\")\n",
        "else:\n",
        "    print(\"Null hypothesis: There is no relationship between 'chd' and 'famhist'.\")"
      ],
      "metadata": {
        "id": "FRD9YPwGPYZk",
        "colab": {
          "base_uri": "https://localhost:8080/"
        },
        "outputId": "3062d5c0-2724-4222-d1d7-acaf2c467b33"
      },
      "execution_count": null,
      "outputs": [
        {
          "output_type": "stream",
          "name": "stdout",
          "text": [
            "Chi-square Statistic: 33.1226039295323\n",
            "P-Value: 8.652695462627767e-09\n",
            "Degrees of Freedom: 1\n",
            "Expected Frequencies:\n",
            " [[176.49350649  93.50649351]\n",
            " [125.50649351  66.49350649]]\n",
            "Alternative hypothesis: There is a relationship between 'chd' and 'famhist'.\n"
          ]
        }
      ]
    },
    {
      "cell_type": "markdown",
      "source": [
        "The p-value is lesser than the significance level[0.05], so we reject the null hypothesis and conclude there exists a significant relationship between 'chd' and 'famhist'."
      ],
      "metadata": {
        "id": "iPz3DcNrhslT"
      }
    },
    {
      "cell_type": "markdown",
      "source": [
        "## ***Building the KNN Model***"
      ],
      "metadata": {
        "id": "nfmUzDv64Axa"
      }
    },
    {
      "cell_type": "code",
      "source": [
        "from sklearn.neighbors import KNeighborsClassifier\n",
        "from sklearn.model_selection import train_test_split\n",
        "from sklearn.metrics import confusion_matrix, classification_report\n",
        "from sklearn import preprocessing"
      ],
      "metadata": {
        "id": "Iu6RLDwqPVo6"
      },
      "execution_count": null,
      "outputs": []
    },
    {
      "cell_type": "code",
      "source": [
        "# Mapping of the features\n",
        "chd_set=set(Data[\"chd\"])\n",
        "Data[\"chd\"]=Data[\"chd\"].map({\"No\":0,\"Si\":1}).astype(int)\n",
        "Data[\"famhist\"]=Data[\"famhist\"].map({\"Absent\":0,\"Present\":1}).astype(int)\n",
        "print(Data.head())"
      ],
      "metadata": {
        "colab": {
          "base_uri": "https://localhost:8080/"
        },
        "id": "zZXuisuOPrem",
        "outputId": "b0ee1fb4-9bb5-43c3-dec2-45927c64746b"
      },
      "execution_count": null,
      "outputs": [
        {
          "output_type": "stream",
          "name": "stdout",
          "text": [
            "   sbp  tobacco   ldl  adiposity  famhist  typea  obesity  alcohol  age  chd\n",
            "0  160    12.00  5.73      23.11        1     49    25.30    97.20   52    1\n",
            "1  144     0.01  4.41      28.61        0     55    28.87     2.06   63    1\n",
            "2  118     0.08  3.48      32.28        1     52    29.14     3.81   46    0\n",
            "3  170     7.50  6.41      38.03        1     51    31.99    24.26   58    1\n",
            "4  134    13.60  3.50      27.78        1     60    25.99    57.34   49    1\n"
          ]
        }
      ]
    },
    {
      "cell_type": "markdown",
      "source": [
        "Here we have mapped the variable \"chd\" where the category \"No\" is mapped to 0 and \"Si\" is mapped to 1.\n",
        "\n",
        "We have also mapped the variable \"famhist\" where the category \"Absent\" is mapped to 0 and \"Present\" is mapped to 1.\n",
        "\n",
        "This type of preprocessing is common before applying machine learning algorithms that require numerical input."
      ],
      "metadata": {
        "id": "iOGIQ9LqiI-6"
      }
    },
    {
      "cell_type": "code",
      "source": [
        "#Segregating the data into X, i.e, Input or Independent variables\n",
        "X = Data.iloc[:, :-1].values\n",
        "X"
      ],
      "metadata": {
        "colab": {
          "base_uri": "https://localhost:8080/"
        },
        "id": "bz2XiruZqtmI",
        "outputId": "15dfba5f-da9f-4935-8283-607fde8e24a9"
      },
      "execution_count": null,
      "outputs": [
        {
          "output_type": "execute_result",
          "data": {
            "text/plain": [
              "array([[1.600e+02, 1.200e+01, 5.730e+00, ..., 2.530e+01, 9.720e+01,\n",
              "        5.200e+01],\n",
              "       [1.440e+02, 1.000e-02, 4.410e+00, ..., 2.887e+01, 2.060e+00,\n",
              "        6.300e+01],\n",
              "       [1.180e+02, 8.000e-02, 3.480e+00, ..., 2.914e+01, 3.810e+00,\n",
              "        4.600e+01],\n",
              "       ...,\n",
              "       [1.080e+02, 3.000e+00, 1.590e+00, ..., 2.009e+01, 2.664e+01,\n",
              "        5.500e+01],\n",
              "       [1.180e+02, 5.400e+00, 1.161e+01, ..., 2.735e+01, 2.397e+01,\n",
              "        4.000e+01],\n",
              "       [1.320e+02, 0.000e+00, 4.820e+00, ..., 1.470e+01, 0.000e+00,\n",
              "        4.600e+01]])"
            ]
          },
          "metadata": {},
          "execution_count": 23
        }
      ]
    },
    {
      "cell_type": "markdown",
      "source": [
        "For the independent variables we have taken all the rows and all the columns except the last column which is \"chd\"."
      ],
      "metadata": {
        "id": "NJxrLWpWjO_u"
      }
    },
    {
      "cell_type": "code",
      "source": [
        "#Segregating the data into Y, i.e, Output or Dependent variables\n",
        "Y=Data.iloc[:,-1].values\n",
        "Y"
      ],
      "metadata": {
        "colab": {
          "base_uri": "https://localhost:8080/"
        },
        "id": "XAVMOt5CrmcL",
        "outputId": "ff2b65ed-2e6d-403d-b910-b25ecee965dd"
      },
      "execution_count": null,
      "outputs": [
        {
          "output_type": "execute_result",
          "data": {
            "text/plain": [
              "array([1, 1, 0, 1, 1, 0, 0, 1, 0, 1, 1, 1, 0, 0, 0, 0, 0, 1, 1, 1, 1, 0,\n",
              "       0, 0, 0, 1, 0, 1, 0, 1, 1, 1, 1, 1, 0, 1, 0, 0, 0, 1, 1, 0, 0, 1,\n",
              "       0, 0, 1, 1, 0, 0, 0, 0, 1, 1, 0, 0, 0, 1, 0, 0, 0, 0, 0, 0, 0, 0,\n",
              "       0, 0, 0, 1, 0, 0, 0, 0, 0, 0, 0, 1, 1, 0, 1, 1, 1, 1, 0, 0, 1, 0,\n",
              "       0, 0, 0, 1, 0, 1, 0, 0, 0, 0, 1, 0, 0, 0, 0, 0, 0, 0, 1, 1, 0, 0,\n",
              "       0, 1, 0, 1, 1, 0, 1, 0, 1, 0, 0, 0, 0, 1, 0, 1, 0, 0, 1, 0, 0, 1,\n",
              "       1, 0, 0, 1, 0, 0, 0, 0, 1, 1, 0, 0, 0, 0, 0, 1, 1, 1, 0, 0, 0, 0,\n",
              "       1, 1, 0, 0, 0, 1, 0, 1, 0, 0, 0, 0, 1, 1, 0, 0, 0, 0, 0, 0, 0, 1,\n",
              "       0, 0, 0, 0, 0, 0, 1, 1, 1, 1, 0, 0, 0, 1, 1, 1, 1, 0, 0, 0, 0, 0,\n",
              "       1, 0, 0, 1, 0, 0, 0, 0, 0, 0, 0, 0, 0, 1, 0, 0, 0, 1, 1, 0, 0, 0,\n",
              "       0, 1, 0, 1, 0, 0, 1, 1, 1, 1, 1, 0, 1, 0, 0, 1, 0, 0, 0, 0, 1, 0,\n",
              "       0, 1, 1, 0, 1, 0, 0, 1, 0, 0, 1, 0, 0, 1, 1, 0, 1, 0, 1, 0, 0, 0,\n",
              "       1, 0, 0, 0, 0, 1, 1, 1, 0, 0, 1, 1, 1, 0, 0, 0, 1, 0, 1, 0, 1, 0,\n",
              "       0, 0, 0, 1, 0, 0, 0, 1, 0, 1, 0, 0, 1, 0, 0, 1, 0, 1, 0, 0, 0, 1,\n",
              "       0, 0, 1, 0, 1, 0, 0, 0, 0, 0, 1, 0, 0, 0, 0, 1, 0, 1, 0, 0, 0, 0,\n",
              "       0, 0, 1, 1, 1, 0, 1, 0, 0, 0, 0, 1, 1, 0, 0, 1, 1, 0, 1, 0, 0, 0,\n",
              "       1, 1, 0, 1, 0, 0, 0, 0, 1, 0, 0, 0, 1, 0, 0, 0, 0, 0, 1, 0, 0, 0,\n",
              "       0, 0, 0, 0, 0, 1, 0, 0, 1, 0, 0, 1, 0, 1, 0, 1, 1, 1, 0, 0, 0, 0,\n",
              "       0, 1, 1, 0, 0, 0, 1, 1, 0, 0, 1, 1, 0, 0, 1, 0, 1, 1, 0, 1, 0, 0,\n",
              "       0, 0, 0, 0, 1, 1, 1, 0, 0, 0, 0, 0, 0, 0, 0, 0, 0, 0, 0, 0, 0, 0,\n",
              "       0, 0, 0, 0, 0, 0, 1, 0, 0, 1, 0, 0, 0, 1, 1, 1, 0, 0, 1, 0, 0, 1])"
            ]
          },
          "metadata": {},
          "execution_count": 24
        }
      ]
    },
    {
      "cell_type": "markdown",
      "source": [
        "For the dependent variable we have taken all the rows and only the last column which is \"chd\"."
      ],
      "metadata": {
        "id": "Q0pUHnjmjltl"
      }
    },
    {
      "cell_type": "code",
      "source": [
        "#Splitting the dataset into Train and Test data\n",
        "from sklearn.model_selection import train_test_split\n",
        "X_train, X_test, Y_train, Y_test = train_test_split(X, Y, test_size = 0.25, random_state = 0)"
      ],
      "metadata": {
        "id": "fHilTrBTszFp"
      },
      "execution_count": null,
      "outputs": []
    },
    {
      "cell_type": "markdown",
      "source": [
        "We have split the dataset into train and test data where the train data consists of 75% of the dataset and the test data consists of 25% of the dataset."
      ],
      "metadata": {
        "id": "VNRMaUxSju5n"
      }
    },
    {
      "cell_type": "code",
      "source": [
        "#Finding the best k-value\n",
        "error = []\n",
        "from sklearn.neighbors import KNeighborsClassifier\n",
        "import matplotlib.pyplot as plt\n",
        "\n",
        "# Calculating error for K values between 1 and 39\n",
        "for i in range(1, 40):\n",
        "    model = KNeighborsClassifier(n_neighbors=i)\n",
        "    model.fit(X_train, Y_train)\n",
        "    pred_i = model.predict(X_test)\n",
        "    error.append(np.mean(pred_i != Y_test))\n",
        "    print(np.mean(pred_i != Y_test))\n",
        "\n",
        "plt.figure(figsize=(12, 6))\n",
        "plt.plot(range(1, 40), error, color='red', linestyle='dashed', marker='o',\n",
        "         markerfacecolor='blue', markersize=10)\n",
        "plt.title('Error Rate K Value')\n",
        "plt.xlabel('K Value')\n",
        "plt.ylabel('Mean Error')"
      ],
      "metadata": {
        "colab": {
          "base_uri": "https://localhost:8080/",
          "height": 1000
        },
        "id": "njXWhA1Yt65w",
        "outputId": "2f3027d8-4f35-434c-9135-5ad7586ae748"
      },
      "execution_count": null,
      "outputs": [
        {
          "output_type": "stream",
          "name": "stdout",
          "text": [
            "0.39655172413793105\n",
            "0.3620689655172414\n",
            "0.4224137931034483\n",
            "0.35344827586206895\n",
            "0.3620689655172414\n",
            "0.3706896551724138\n",
            "0.3275862068965517\n",
            "0.33620689655172414\n",
            "0.31896551724137934\n",
            "0.3017241379310345\n",
            "0.3017241379310345\n",
            "0.29310344827586204\n",
            "0.29310344827586204\n",
            "0.28448275862068967\n",
            "0.28448275862068967\n",
            "0.3275862068965517\n",
            "0.33620689655172414\n",
            "0.3275862068965517\n",
            "0.3275862068965517\n",
            "0.3103448275862069\n",
            "0.31896551724137934\n",
            "0.33620689655172414\n",
            "0.3275862068965517\n",
            "0.3706896551724138\n",
            "0.35344827586206895\n",
            "0.3706896551724138\n",
            "0.3706896551724138\n",
            "0.3620689655172414\n",
            "0.33620689655172414\n",
            "0.3448275862068966\n",
            "0.3103448275862069\n",
            "0.33620689655172414\n",
            "0.33620689655172414\n",
            "0.3448275862068966\n",
            "0.33620689655172414\n",
            "0.3448275862068966\n",
            "0.33620689655172414\n",
            "0.3275862068965517\n",
            "0.33620689655172414\n"
          ]
        },
        {
          "output_type": "execute_result",
          "data": {
            "text/plain": [
              "Text(0, 0.5, 'Mean Error')"
            ]
          },
          "metadata": {},
          "execution_count": 26
        },
        {
          "output_type": "display_data",
          "data": {
            "text/plain": [
              "<Figure size 1200x600 with 1 Axes>"
            ],
            "image/png": "[encoded data removed]"
          },
          "metadata": {}
        }
      ]
    },
    {
      "cell_type": "markdown",
      "source": [
        "This helps us to determine the optimal value of K for the KNN classifier based on the mean error rate. The K value with the lowest mean error rate on the test set may be considered the best choice for the classifier. This process is commonly known as hyperparameter tuning.\n",
        "\n",
        "\n",
        "\n",
        "\n"
      ],
      "metadata": {
        "id": "adwo1LhEylW7"
      }
    },
    {
      "cell_type": "code",
      "source": [
        "#Training\n",
        "from sklearn.neighbors import KNeighborsClassifier\n",
        "model = KNeighborsClassifier(n_neighbors = 15, metric = 'minkowski', p = 2)\n",
        "model.fit(X_train, Y_train)"
      ],
      "metadata": {
        "colab": {
          "base_uri": "https://localhost:8080/",
          "height": 74
        },
        "id": "G8FELllzuxYs",
        "outputId": "f2647e66-199e-483e-e863-c4211ff26767"
      },
      "execution_count": null,
      "outputs": [
        {
          "output_type": "execute_result",
          "data": {
            "text/plain": [
              "KNeighborsClassifier(n_neighbors=15)"
            ],
            "text/html": [
              "<style>#sk-container-id-1 {color: black;background-color: white;}#sk-container-id-1 pre{padding: 0;}#sk-container-id-1 div.sk-toggleable {background-color: white;}#sk-container-id-1 label.sk-toggleable__label {cursor: pointer;display: block;width: 100%;margin-bottom: 0;padding: 0.3em;box-sizing: border-box;text-align: center;}#sk-container-id-1 label.sk-toggleable__label-arrow:before {content: \"▸\";float: left;margin-right: 0.25em;color: #696969;}#sk-container-id-1 label.sk-toggleable__label-arrow:hover:before {color: black;}#sk-container-id-1 div.sk-estimator:hover label.sk-toggleable__label-arrow:before {color: black;}#sk-container-id-1 div.sk-toggleable__content {max-height: 0;max-width: 0;overflow: hidden;text-align: left;background-color: #f0f8ff;}#sk-container-id-1 div.sk-toggleable__content pre {margin: 0.2em;color: black;border-radius: 0.25em;background-color: #f0f8ff;}#sk-container-id-1 input.sk-toggleable__control:checked~div.sk-toggleable__content {max-height: 200px;max-width: 100%;overflow: auto;}#sk-container-id-1 input.sk-toggleable__control:checked~label.sk-toggleable__label-arrow:before {content: \"▾\";}#sk-container-id-1 div.sk-estimator input.sk-toggleable__control:checked~label.sk-toggleable__label {background-color: #d4ebff;}#sk-container-id-1 div.sk-label input.sk-toggleable__control:checked~label.sk-toggleable__label {background-color: #d4ebff;}#sk-container-id-1 input.sk-hidden--visually {border: 0;clip: rect(1px 1px 1px 1px);clip: rect(1px, 1px, 1px, 1px);height: 1px;margin: -1px;overflow: hidden;padding: 0;position: absolute;width: 1px;}#sk-container-id-1 div.sk-estimator {font-family: monospace;background-color: #f0f8ff;border: 1px dotted black;border-radius: 0.25em;box-sizing: border-box;margin-bottom: 0.5em;}#sk-container-id-1 div.sk-estimator:hover {background-color: #d4ebff;}#sk-container-id-1 div.sk-parallel-item::after {content: \"\";width: 100%;border-bottom: 1px solid gray;flex-grow: 1;}#sk-container-id-1 div.sk-label:hover label.sk-toggleable__label {background-color: #d4ebff;}#sk-container-id-1 div.sk-serial::before {content: \"\";position: absolute;border-left: 1px solid gray;box-sizing: border-box;top: 0;bottom: 0;left: 50%;z-index: 0;}#sk-container-id-1 div.sk-serial {display: flex;flex-direction: column;align-items: center;background-color: white;padding-right: 0.2em;padding-left: 0.2em;position: relative;}#sk-container-id-1 div.sk-item {position: relative;z-index: 1;}#sk-container-id-1 div.sk-parallel {display: flex;align-items: stretch;justify-content: center;background-color: white;position: relative;}#sk-container-id-1 div.sk-item::before, #sk-container-id-1 div.sk-parallel-item::before {content: \"\";position: absolute;border-left: 1px solid gray;box-sizing: border-box;top: 0;bottom: 0;left: 50%;z-index: -1;}#sk-container-id-1 div.sk-parallel-item {display: flex;flex-direction: column;z-index: 1;position: relative;background-color: white;}#sk-container-id-1 div.sk-parallel-item:first-child::after {align-self: flex-end;width: 50%;}#sk-container-id-1 div.sk-parallel-item:last-child::after {align-self: flex-start;width: 50%;}#sk-container-id-1 div.sk-parallel-item:only-child::after {width: 0;}#sk-container-id-1 div.sk-dashed-wrapped {border: 1px dashed gray;margin: 0 0.4em 0.5em 0.4em;box-sizing: border-box;padding-bottom: 0.4em;background-color: white;}#sk-container-id-1 div.sk-label label {font-family: monospace;font-weight: bold;display: inline-block;line-height: 1.2em;}#sk-container-id-1 div.sk-label-container {text-align: center;}#sk-container-id-1 div.sk-container {/* jupyter's `normalize.less` sets `[hidden] { display: none; }` but bootstrap.min.css set `[hidden] { display: none !important; }` so we also need the `!important` here to be able to override the default hidden behavior on the sphinx rendered scikit-learn.org. See: https://github.com/scikit-learn/scikit-learn/issues/21755 */display: inline-block !important;position: relative;}#sk-container-id-1 div.sk-text-repr-fallback {display: none;}</style><div id=\"sk-container-id-1\" class=\"sk-top-container\"><div class=\"sk-text-repr-fallback\"><pre>KNeighborsClassifier(n_neighbors=15)</pre><b>In a Jupyter environment, please rerun this cell to show the HTML representation or trust the notebook. <br />On GitHub, the HTML representation is unable to render, please try loading this page with nbviewer.org.</b></div><div class=\"sk-container\" hidden><div class=\"sk-item\"><div class=\"sk-estimator sk-toggleable\"><input class=\"sk-toggleable__control sk-hidden--visually\" id=\"sk-estimator-id-1\" type=\"checkbox\" checked><label for=\"sk-estimator-id-1\" class=\"sk-toggleable__label sk-toggleable__label-arrow\">KNeighborsClassifier</label><div class=\"sk-toggleable__content\"><pre>KNeighborsClassifier(n_neighbors=15)</pre></div></div></div></div></div>"
            ]
          },
          "metadata": {},
          "execution_count": 27
        }
      ]
    },
    {
      "cell_type": "markdown",
      "source": [
        "This creates a KNN classifier object with 15 neighbors, using the Minkowski distance metric with p=2 (which corresponds to Euclidean distance). Then, it trains the classifier using the provided training data and labels. Once trained, the model is ready to make predictions on new, unseen data."
      ],
      "metadata": {
        "id": "Ye9Ks7S8zOc6"
      }
    },
    {
      "cell_type": "code",
      "source": [
        "#Predicting whether or not a person will have coronory heart disease\n",
        "sys_bp = int(input(\"Enter New Patients's Systolic blood pressure: \"))\n",
        "cum_tobacco = float(input(\"Enter New Patient's cumulative tobacco consumption: \"))\n",
        "ldl_cho= float(input(\"Enter New Patient's low density lipoprotein cholestrol: \"))\n",
        "adi = float(input(\"Enter New Patient's Adiposity: \"))\n",
        "hist = int(input(\"Enter New Patients's family history: \"))\n",
        "type_a_behaviour = int(input(\"Enter New Patient's type-a behaviour: \"))\n",
        "obe = float(input(\"Enter New Patient's Obesity: \"))\n",
        "acl = float(input(\"Enter New Patient's Alcohol consumption: \"))\n",
        "age = int(input(\"Enter New Patient's Age: \"))\n",
        "newPatient = [[sys_bp,cum_tobacco,ldl_cho,adi,hist,type_a_behaviour,obe,acl,age]]\n",
        "result = model.predict(newPatient)\n",
        "print(result)\n",
        "\n",
        "if result == 1:\n",
        "  print(\"The Patient might have coronory heart disease\")\n",
        "else:\n",
        "  print(\"The Patient might not have coronory heart disease\")"
      ],
      "metadata": {
        "colab": {
          "base_uri": "https://localhost:8080/"
        },
        "id": "ENFOkCXWvEWJ",
        "outputId": "cdc7eb65-6ca1-4d51-ac0e-98043232a452"
      },
      "execution_count": null,
      "outputs": [
        {
          "output_type": "stream",
          "name": "stdout",
          "text": [
            "Enter New Patients's Systolic blood pressure: 140\n",
            "Enter New Patient's cumulative tobacco consumption: 5\n",
            "Enter New Patient's low density lipoprotein cholestrol: 4.78\n",
            "Enter New Patient's Adiposity: 35.69\n",
            "Enter New Patients's family history: 0\n",
            "Enter New Patient's type-a behaviour: 50\n",
            "Enter New Patient's Obesity: 40\n",
            "Enter New Patient's Alcohol consumption: 55\n",
            "Enter New Patient's Age: 78\n",
            "[0]\n",
            "The Patient might not have coronory heart disease\n"
          ]
        }
      ]
    },
    {
      "cell_type": "markdown",
      "source": [
        "This code essentially serves as an interface where a user can input various health parameters of a new patient, and based on those inputs, the model predicts the likelihood of the patient having coronary heart disease. The output provides an indication of whether the patient is at risk of CHD based on the provided health parameters and the trained model's predictions."
      ],
      "metadata": {
        "id": "F72QqbXKF6Xe"
      }
    },
    {
      "cell_type": "code",
      "source": [
        "#Prediction for all the test data\n",
        "Y_pred = model.predict(X_test)\n",
        "print(np.concatenate((Y_pred.reshape(len(Y_pred),1), Y_test.reshape(len(Y_test),1)),1))"
      ],
      "metadata": {
        "colab": {
          "base_uri": "https://localhost:8080/"
        },
        "id": "51_3EkjUx7Rb",
        "outputId": "a1ae4191-05b3-4fc5-f6a2-ac1a5d04ed30"
      },
      "execution_count": null,
      "outputs": [
        {
          "output_type": "stream",
          "name": "stdout",
          "text": [
            "[[0 1]\n",
            " [0 0]\n",
            " [1 1]\n",
            " [1 1]\n",
            " [0 0]\n",
            " [1 1]\n",
            " [0 0]\n",
            " [0 0]\n",
            " [0 0]\n",
            " [1 1]\n",
            " [0 0]\n",
            " [0 0]\n",
            " [0 1]\n",
            " [0 0]\n",
            " [0 1]\n",
            " [0 1]\n",
            " [1 1]\n",
            " [0 0]\n",
            " [1 1]\n",
            " [0 0]\n",
            " [1 1]\n",
            " [0 0]\n",
            " [0 0]\n",
            " [0 1]\n",
            " [0 0]\n",
            " [0 0]\n",
            " [1 1]\n",
            " [0 0]\n",
            " [0 0]\n",
            " [0 1]\n",
            " [0 0]\n",
            " [0 1]\n",
            " [0 1]\n",
            " [1 1]\n",
            " [0 0]\n",
            " [0 0]\n",
            " [0 0]\n",
            " [0 1]\n",
            " [0 1]\n",
            " [0 0]\n",
            " [0 1]\n",
            " [0 0]\n",
            " [0 0]\n",
            " [0 0]\n",
            " [0 0]\n",
            " [0 1]\n",
            " [1 0]\n",
            " [0 1]\n",
            " [0 0]\n",
            " [0 0]\n",
            " [0 0]\n",
            " [0 1]\n",
            " [1 1]\n",
            " [0 0]\n",
            " [0 0]\n",
            " [0 0]\n",
            " [0 0]\n",
            " [0 0]\n",
            " [0 0]\n",
            " [0 1]\n",
            " [0 0]\n",
            " [0 0]\n",
            " [0 0]\n",
            " [0 0]\n",
            " [0 0]\n",
            " [0 0]\n",
            " [1 0]\n",
            " [0 1]\n",
            " [1 0]\n",
            " [0 0]\n",
            " [0 1]\n",
            " [1 1]\n",
            " [0 0]\n",
            " [0 0]\n",
            " [0 0]\n",
            " [0 0]\n",
            " [0 0]\n",
            " [0 1]\n",
            " [0 0]\n",
            " [0 0]\n",
            " [0 0]\n",
            " [0 1]\n",
            " [0 0]\n",
            " [0 1]\n",
            " [1 0]\n",
            " [0 0]\n",
            " [0 0]\n",
            " [0 0]\n",
            " [0 0]\n",
            " [0 0]\n",
            " [1 1]\n",
            " [0 0]\n",
            " [0 0]\n",
            " [0 0]\n",
            " [0 0]\n",
            " [1 1]\n",
            " [1 0]\n",
            " [0 0]\n",
            " [0 1]\n",
            " [0 0]\n",
            " [0 1]\n",
            " [0 0]\n",
            " [1 0]\n",
            " [0 0]\n",
            " [0 0]\n",
            " [0 1]\n",
            " [0 1]\n",
            " [1 0]\n",
            " [0 0]\n",
            " [1 1]\n",
            " [0 0]\n",
            " [0 0]\n",
            " [0 0]\n",
            " [1 0]\n",
            " [0 1]\n",
            " [0 0]]\n"
          ]
        }
      ]
    },
    {
      "cell_type": "markdown",
      "source": [
        "This printed output provides a side-by-side comparison between the predicted labels and the actual labels for the test dataset. It helps in assessing the performance of the KNN classifier by observing how well the predicted labels match the true labels. Misclassifications and the overall accuracy of the model can be inferred from this comparison."
      ],
      "metadata": {
        "id": "YFwQ1HLs0CdG"
      }
    },
    {
      "cell_type": "code",
      "source": [
        "from sklearn.metrics import confusion_matrix, ConfusionMatrixDisplay, accuracy_score\n",
        "conf_matrix = confusion_matrix(Y_test, Y_pred)\n",
        "print(\"Confusion Matrix:\\n\", conf_matrix)\n",
        "print(\"Accuracy of the Model: {0}%\".format(accuracy_score(Y_test, Y_pred)*100))\n",
        "cm_display = ConfusionMatrixDisplay(confusion_matrix=conf_matrix,display_labels=['No disease','Disease'])\n",
        "cm_display.plot()"
      ],
      "metadata": {
        "colab": {
          "base_uri": "https://localhost:8080/",
          "height": 540
        },
        "id": "PPMeBYrIGOtC",
        "outputId": "200ca5cd-dccb-4b67-970c-17f822be07e3"
      },
      "execution_count": null,
      "outputs": [
        {
          "output_type": "stream",
          "name": "stdout",
          "text": [
            "Confusion Matrix:\n",
            " [[69  8]\n",
            " [25 14]]\n",
            "Accuracy of the Model: 71.55172413793103%\n"
          ]
        },
        {
          "output_type": "execute_result",
          "data": {
            "text/plain": [
              "<sklearn.metrics._plot.confusion_matrix.ConfusionMatrixDisplay at 0x7b5fe2cf04c0>"
            ]
          },
          "metadata": {},
          "execution_count": 31
        },
        {
          "output_type": "display_data",
          "data": {
            "text/plain": [
              "<Figure size 640x480 with 2 Axes>"
            ],
            "image/png": "[encoded data removed]"
          },
          "metadata": {}
        }
      ]
    },
    {
      "cell_type": "markdown",
      "source": [
        "Accuracy is a common evaluation metric used to measure the overall performance of a classification model. It represents the proportion of correctly classified instances out of the total instances evaluated. The accuracy of our model is 71.55%.\n",
        "\n",
        "The confusion matrix tells us that:\n",
        "\n",
        "The true positive rate is 14, that is, 14 people have CHD and was correctly predicted to have CHD.\n",
        "\n",
        "The false positive rate is 8, that is, 8 people did not have CHD and were wrongly prdicted to have CHD.\n",
        "\n",
        "The false negative rate is 25, that is, 25 people had CHD but were wrongly prdicted to not have CHD.\n",
        "\n",
        "The true negative rate is 69, that is, 69 people do not had CHD and was correctly prdicted to not have CHD."
      ],
      "metadata": {
        "id": "O6A2Xv_G0nD3"
      }
    },
    {
      "cell_type": "markdown",
      "source": [
        "## ***To find out which features are statistically significant in the KNN Classification model built in above model.***"
      ],
      "metadata": {
        "id": "Hy0VgHiJ4YJz"
      }
    },
    {
      "cell_type": "markdown",
      "source": [
        "To check for statistically significant features for the dependent variable, we simply use correlation matrix. This correlation matrix is used by keeping in mind that the correlation between the independent varibles should be less/minimum."
      ],
      "metadata": {
        "id": "2aJUIhvp4lSo"
      }
    },
    {
      "cell_type": "code",
      "source": [
        "correlation_matrix = Data.corr(numeric_only = True)\n",
        "plt.figure(figsize=(10, 8))\n",
        "sns.heatmap(correlation_matrix, annot=True, cmap='Blues', fmt=\".2f\")\n",
        "plt.title('Correlation Heatmap')\n",
        "plt.show()"
      ],
      "metadata": {
        "colab": {
          "base_uri": "https://localhost:8080/",
          "height": 699
        },
        "id": "IyoCOMtO44PY",
        "outputId": "87ce2517-682f-4045-eb9a-13efb19dce85"
      },
      "execution_count": null,
      "outputs": [
        {
          "output_type": "display_data",
          "data": {
            "text/plain": [
              "<Figure size 1000x800 with 2 Axes>"
            ],
            "image/png": "[encoded data removed]"
          },
          "metadata": {}
        }
      ]
    },
    {
      "cell_type": "markdown",
      "source": [
        "On analysis of correlation from the above matrix for each feature within themselves, the features which seem to be siginificant are\n",
        "1. sbp\n",
        "2. tobacco\n",
        "3. famhist\n",
        "4. typea\n",
        "5. alcohol\n",
        "\n",
        "Now, we build the KNN model with the above are the significant features."
      ],
      "metadata": {
        "id": "JSL6hX62-P_L"
      }
    },
    {
      "cell_type": "code",
      "source": [
        "X_new=Data[['sbp','tobacco','famhist','typea','alcohol']]\n",
        "X_new\n",
        "Y_new=Data['chd']\n",
        "Y_new\n",
        "\n",
        "X_train,X_test,y_train,y_test=train_test_split(X_new,Y_new,test_size=0.25,random_state=0)"
      ],
      "metadata": {
        "id": "0FPyZnDH-pHS"
      },
      "execution_count": null,
      "outputs": []
    },
    {
      "cell_type": "markdown",
      "source": [
        "We have divided the dataset into independent variables and a dependent variable which is \"chd\". For the independent variables we have taken the only variables which are significantly correlated to \"chd\"."
      ],
      "metadata": {
        "id": "lGrvBUWF3i9_"
      }
    },
    {
      "cell_type": "code",
      "source": [
        "X_train.info() #Checking the datatypes of the independent variables."
      ],
      "metadata": {
        "colab": {
          "base_uri": "https://localhost:8080/"
        },
        "id": "OYYTkBTF_1SI",
        "outputId": "ab3302f9-b50b-49e8-eef7-a3693f389523"
      },
      "execution_count": null,
      "outputs": [
        {
          "output_type": "stream",
          "name": "stdout",
          "text": [
            "<class 'pandas.core.frame.DataFrame'>\n",
            "Index: 346 entries, 247 to 172\n",
            "Data columns (total 5 columns):\n",
            " #   Column   Non-Null Count  Dtype  \n",
            "---  ------   --------------  -----  \n",
            " 0   sbp      346 non-null    int64  \n",
            " 1   tobacco  346 non-null    float64\n",
            " 2   famhist  346 non-null    int64  \n",
            " 3   typea    346 non-null    int64  \n",
            " 4   alcohol  346 non-null    float64\n",
            "dtypes: float64(2), int64(3)\n",
            "memory usage: 16.2 KB\n"
          ]
        }
      ]
    },
    {
      "cell_type": "markdown",
      "source": [
        "We see that sbp, famhist and typea are integer variables while tobacco and alcohol are float variables."
      ],
      "metadata": {
        "id": "pQzbFibAGR5K"
      }
    },
    {
      "cell_type": "code",
      "source": [
        "y_train.info() #Checking the datatype of the dependent variable."
      ],
      "metadata": {
        "colab": {
          "base_uri": "https://localhost:8080/"
        },
        "id": "zxMkzdFC_4P4",
        "outputId": "1d300eb2-c341-4e5a-ff90-48122d8aa05d"
      },
      "execution_count": null,
      "outputs": [
        {
          "output_type": "stream",
          "name": "stdout",
          "text": [
            "<class 'pandas.core.series.Series'>\n",
            "Index: 346 entries, 247 to 172\n",
            "Series name: chd\n",
            "Non-Null Count  Dtype\n",
            "--------------  -----\n",
            "346 non-null    int64\n",
            "dtypes: int64(1)\n",
            "memory usage: 5.4 KB\n"
          ]
        }
      ]
    },
    {
      "cell_type": "markdown",
      "source": [
        "We see that chd is an integer variable."
      ],
      "metadata": {
        "id": "yxMwXF32GqOp"
      }
    },
    {
      "cell_type": "code",
      "source": [
        "X_test.info()"
      ],
      "metadata": {
        "colab": {
          "base_uri": "https://localhost:8080/"
        },
        "id": "1EUdTO6U_6QQ",
        "outputId": "dd5370c6-392a-4bb4-eace-88a227515940"
      },
      "execution_count": null,
      "outputs": [
        {
          "output_type": "stream",
          "name": "stdout",
          "text": [
            "<class 'pandas.core.frame.DataFrame'>\n",
            "Index: 116 entries, 113 to 299\n",
            "Data columns (total 5 columns):\n",
            " #   Column   Non-Null Count  Dtype  \n",
            "---  ------   --------------  -----  \n",
            " 0   sbp      116 non-null    int64  \n",
            " 1   tobacco  116 non-null    float64\n",
            " 2   famhist  116 non-null    int64  \n",
            " 3   typea    116 non-null    int64  \n",
            " 4   alcohol  116 non-null    float64\n",
            "dtypes: float64(2), int64(3)\n",
            "memory usage: 5.4 KB\n"
          ]
        }
      ]
    },
    {
      "cell_type": "code",
      "source": [
        "y_test.info()"
      ],
      "metadata": {
        "colab": {
          "base_uri": "https://localhost:8080/"
        },
        "id": "wPTAFaxa_8l_",
        "outputId": "a6172651-2617-4279-adc8-c0040eae9356"
      },
      "execution_count": null,
      "outputs": [
        {
          "output_type": "stream",
          "name": "stdout",
          "text": [
            "<class 'pandas.core.series.Series'>\n",
            "Index: 116 entries, 113 to 299\n",
            "Series name: chd\n",
            "Non-Null Count  Dtype\n",
            "--------------  -----\n",
            "116 non-null    int64\n",
            "dtypes: int64(1)\n",
            "memory usage: 1.8 KB\n"
          ]
        }
      ]
    },
    {
      "cell_type": "code",
      "source": [
        "#Finding the best k-value\n",
        "error = []\n",
        "from sklearn.neighbors import KNeighborsClassifier\n",
        "import matplotlib.pyplot as plt\n",
        "\n",
        "# Calculating error for K values between 1 and 40\n",
        "for i in range(1, 40):\n",
        "    model = KNeighborsClassifier(n_neighbors=i)\n",
        "    model.fit(X_train, Y_train)\n",
        "    pred_i = model.predict(X_test)\n",
        "    error.append(np.mean(pred_i != Y_test))\n",
        "    print(np.mean(pred_i != Y_test))\n",
        "\n",
        "plt.figure(figsize=(12, 6))\n",
        "plt.plot(range(1, 40), error, color='red', linestyle='dashed', marker='o',\n",
        "         markerfacecolor='blue', markersize=10)\n",
        "plt.title('Error Rate K Value')\n",
        "plt.xlabel('K Value')\n",
        "plt.ylabel('Mean Error')"
      ],
      "metadata": {
        "colab": {
          "base_uri": "https://localhost:8080/",
          "height": 1000
        },
        "id": "vFaXuKpeBcOi",
        "outputId": "3e4b1896-17e2-446a-8355-96ae7a666260"
      },
      "execution_count": null,
      "outputs": [
        {
          "output_type": "stream",
          "name": "stdout",
          "text": [
            "0.4224137931034483\n",
            "0.3448275862068966\n",
            "0.3706896551724138\n",
            "0.3620689655172414\n",
            "0.39655172413793105\n",
            "0.33620689655172414\n",
            "0.35344827586206895\n",
            "0.3275862068965517\n",
            "0.31896551724137934\n",
            "0.3017241379310345\n",
            "0.3017241379310345\n",
            "0.3275862068965517\n",
            "0.3275862068965517\n",
            "0.3275862068965517\n",
            "0.3103448275862069\n",
            "0.3275862068965517\n",
            "0.31896551724137934\n",
            "0.3275862068965517\n",
            "0.29310344827586204\n",
            "0.33620689655172414\n",
            "0.3103448275862069\n",
            "0.3275862068965517\n",
            "0.31896551724137934\n",
            "0.3448275862068966\n",
            "0.3275862068965517\n",
            "0.3275862068965517\n",
            "0.33620689655172414\n",
            "0.3275862068965517\n",
            "0.3275862068965517\n",
            "0.33620689655172414\n",
            "0.3275862068965517\n",
            "0.3275862068965517\n",
            "0.3275862068965517\n",
            "0.33620689655172414\n",
            "0.3275862068965517\n",
            "0.3448275862068966\n",
            "0.3448275862068966\n",
            "0.3448275862068966\n",
            "0.35344827586206895\n"
          ]
        },
        {
          "output_type": "execute_result",
          "data": {
            "text/plain": [
              "Text(0, 0.5, 'Mean Error')"
            ]
          },
          "metadata": {},
          "execution_count": 38
        },
        {
          "output_type": "display_data",
          "data": {
            "text/plain": [
              "<Figure size 1200x600 with 1 Axes>"
            ],
            "image/png": "[encoded data removed]"
          },
          "metadata": {}
        }
      ]
    },
    {
      "cell_type": "markdown",
      "source": [
        "This helps us to determine the optimal value of K for the KNN classifier based on the mean error rate. The K value with the lowest mean error rate on the test set may be considered the best choice for the classifier. This process is commonly known as hyperparameter tuning.\n",
        "\n",
        "\n",
        "\n",
        "\n"
      ],
      "metadata": {
        "id": "-qrPv3S95QAe"
      }
    },
    {
      "cell_type": "code",
      "source": [
        "#Training\n",
        "from sklearn.neighbors import KNeighborsClassifier\n",
        "model = KNeighborsClassifier(n_neighbors = 19, metric = 'minkowski', p = 2)\n",
        "model.fit(X_train, Y_train)"
      ],
      "metadata": {
        "colab": {
          "base_uri": "https://localhost:8080/",
          "height": 74
        },
        "id": "f7xei_3dB0cS",
        "outputId": "906bc358-d9a7-4230-a8ba-ebc512058181"
      },
      "execution_count": null,
      "outputs": [
        {
          "output_type": "execute_result",
          "data": {
            "text/plain": [
              "KNeighborsClassifier(n_neighbors=19)"
            ],
            "text/html": [
              "<style>#sk-container-id-2 {color: black;background-color: white;}#sk-container-id-2 pre{padding: 0;}#sk-container-id-2 div.sk-toggleable {background-color: white;}#sk-container-id-2 label.sk-toggleable__label {cursor: pointer;display: block;width: 100%;margin-bottom: 0;padding: 0.3em;box-sizing: border-box;text-align: center;}#sk-container-id-2 label.sk-toggleable__label-arrow:before {content: \"▸\";float: left;margin-right: 0.25em;color: #696969;}#sk-container-id-2 label.sk-toggleable__label-arrow:hover:before {color: black;}#sk-container-id-2 div.sk-estimator:hover label.sk-toggleable__label-arrow:before {color: black;}#sk-container-id-2 div.sk-toggleable__content {max-height: 0;max-width: 0;overflow: hidden;text-align: left;background-color: #f0f8ff;}#sk-container-id-2 div.sk-toggleable__content pre {margin: 0.2em;color: black;border-radius: 0.25em;background-color: #f0f8ff;}#sk-container-id-2 input.sk-toggleable__control:checked~div.sk-toggleable__content {max-height: 200px;max-width: 100%;overflow: auto;}#sk-container-id-2 input.sk-toggleable__control:checked~label.sk-toggleable__label-arrow:before {content: \"▾\";}#sk-container-id-2 div.sk-estimator input.sk-toggleable__control:checked~label.sk-toggleable__label {background-color: #d4ebff;}#sk-container-id-2 div.sk-label input.sk-toggleable__control:checked~label.sk-toggleable__label {background-color: #d4ebff;}#sk-container-id-2 input.sk-hidden--visually {border: 0;clip: rect(1px 1px 1px 1px);clip: rect(1px, 1px, 1px, 1px);height: 1px;margin: -1px;overflow: hidden;padding: 0;position: absolute;width: 1px;}#sk-container-id-2 div.sk-estimator {font-family: monospace;background-color: #f0f8ff;border: 1px dotted black;border-radius: 0.25em;box-sizing: border-box;margin-bottom: 0.5em;}#sk-container-id-2 div.sk-estimator:hover {background-color: #d4ebff;}#sk-container-id-2 div.sk-parallel-item::after {content: \"\";width: 100%;border-bottom: 1px solid gray;flex-grow: 1;}#sk-container-id-2 div.sk-label:hover label.sk-toggleable__label {background-color: #d4ebff;}#sk-container-id-2 div.sk-serial::before {content: \"\";position: absolute;border-left: 1px solid gray;box-sizing: border-box;top: 0;bottom: 0;left: 50%;z-index: 0;}#sk-container-id-2 div.sk-serial {display: flex;flex-direction: column;align-items: center;background-color: white;padding-right: 0.2em;padding-left: 0.2em;position: relative;}#sk-container-id-2 div.sk-item {position: relative;z-index: 1;}#sk-container-id-2 div.sk-parallel {display: flex;align-items: stretch;justify-content: center;background-color: white;position: relative;}#sk-container-id-2 div.sk-item::before, #sk-container-id-2 div.sk-parallel-item::before {content: \"\";position: absolute;border-left: 1px solid gray;box-sizing: border-box;top: 0;bottom: 0;left: 50%;z-index: -1;}#sk-container-id-2 div.sk-parallel-item {display: flex;flex-direction: column;z-index: 1;position: relative;background-color: white;}#sk-container-id-2 div.sk-parallel-item:first-child::after {align-self: flex-end;width: 50%;}#sk-container-id-2 div.sk-parallel-item:last-child::after {align-self: flex-start;width: 50%;}#sk-container-id-2 div.sk-parallel-item:only-child::after {width: 0;}#sk-container-id-2 div.sk-dashed-wrapped {border: 1px dashed gray;margin: 0 0.4em 0.5em 0.4em;box-sizing: border-box;padding-bottom: 0.4em;background-color: white;}#sk-container-id-2 div.sk-label label {font-family: monospace;font-weight: bold;display: inline-block;line-height: 1.2em;}#sk-container-id-2 div.sk-label-container {text-align: center;}#sk-container-id-2 div.sk-container {/* jupyter's `normalize.less` sets `[hidden] { display: none; }` but bootstrap.min.css set `[hidden] { display: none !important; }` so we also need the `!important` here to be able to override the default hidden behavior on the sphinx rendered scikit-learn.org. See: https://github.com/scikit-learn/scikit-learn/issues/21755 */display: inline-block !important;position: relative;}#sk-container-id-2 div.sk-text-repr-fallback {display: none;}</style><div id=\"sk-container-id-2\" class=\"sk-top-container\"><div class=\"sk-text-repr-fallback\"><pre>KNeighborsClassifier(n_neighbors=19)</pre><b>In a Jupyter environment, please rerun this cell to show the HTML representation or trust the notebook. <br />On GitHub, the HTML representation is unable to render, please try loading this page with nbviewer.org.</b></div><div class=\"sk-container\" hidden><div class=\"sk-item\"><div class=\"sk-estimator sk-toggleable\"><input class=\"sk-toggleable__control sk-hidden--visually\" id=\"sk-estimator-id-2\" type=\"checkbox\" checked><label for=\"sk-estimator-id-2\" class=\"sk-toggleable__label sk-toggleable__label-arrow\">KNeighborsClassifier</label><div class=\"sk-toggleable__content\"><pre>KNeighborsClassifier(n_neighbors=19)</pre></div></div></div></div></div>"
            ]
          },
          "metadata": {},
          "execution_count": 39
        }
      ]
    },
    {
      "cell_type": "markdown",
      "source": [
        "This creates a KNN classifier object with 19 neighbors, using the Minkowski distance metric with p=2 (which corresponds to Euclidean distance). Then, it trains the classifier using the provided training data and labels. Once trained, the model is ready to make predictions on new, unseen data."
      ],
      "metadata": {
        "id": "snIa-UHa5Yus"
      }
    },
    {
      "cell_type": "code",
      "source": [
        "#Prediction for all the test data\n",
        "Y_pred_new = model.predict(X_test)\n",
        "print(np.concatenate((Y_pred_new.reshape(len(Y_pred_new),1), Y_test.reshape(len(Y_test),1)),1))"
      ],
      "metadata": {
        "colab": {
          "base_uri": "https://localhost:8080/"
        },
        "id": "TXzG-NYWB_AE",
        "outputId": "81f24e48-89fc-4f4b-9857-0e0e44edc844"
      },
      "execution_count": null,
      "outputs": [
        {
          "output_type": "stream",
          "name": "stdout",
          "text": [
            "[[0 1]\n",
            " [0 0]\n",
            " [1 1]\n",
            " [0 1]\n",
            " [1 0]\n",
            " [1 1]\n",
            " [0 0]\n",
            " [0 0]\n",
            " [0 0]\n",
            " [1 1]\n",
            " [0 0]\n",
            " [0 0]\n",
            " [0 1]\n",
            " [0 0]\n",
            " [0 1]\n",
            " [0 1]\n",
            " [1 1]\n",
            " [0 0]\n",
            " [0 1]\n",
            " [0 0]\n",
            " [1 1]\n",
            " [0 0]\n",
            " [0 0]\n",
            " [0 1]\n",
            " [0 0]\n",
            " [0 0]\n",
            " [1 1]\n",
            " [0 0]\n",
            " [0 0]\n",
            " [0 1]\n",
            " [0 0]\n",
            " [0 1]\n",
            " [0 1]\n",
            " [0 1]\n",
            " [0 0]\n",
            " [0 0]\n",
            " [0 0]\n",
            " [0 1]\n",
            " [0 1]\n",
            " [0 0]\n",
            " [0 1]\n",
            " [0 0]\n",
            " [0 0]\n",
            " [0 0]\n",
            " [0 0]\n",
            " [0 1]\n",
            " [1 0]\n",
            " [1 1]\n",
            " [0 0]\n",
            " [0 0]\n",
            " [0 0]\n",
            " [0 1]\n",
            " [0 1]\n",
            " [0 0]\n",
            " [0 0]\n",
            " [0 0]\n",
            " [0 0]\n",
            " [0 0]\n",
            " [0 0]\n",
            " [0 1]\n",
            " [0 0]\n",
            " [0 0]\n",
            " [0 0]\n",
            " [0 0]\n",
            " [0 0]\n",
            " [0 0]\n",
            " [0 0]\n",
            " [0 1]\n",
            " [1 0]\n",
            " [0 0]\n",
            " [0 1]\n",
            " [1 1]\n",
            " [0 0]\n",
            " [0 0]\n",
            " [0 0]\n",
            " [0 0]\n",
            " [0 0]\n",
            " [0 1]\n",
            " [0 0]\n",
            " [0 0]\n",
            " [0 0]\n",
            " [0 1]\n",
            " [0 0]\n",
            " [0 1]\n",
            " [0 0]\n",
            " [0 0]\n",
            " [0 0]\n",
            " [0 0]\n",
            " [0 0]\n",
            " [0 0]\n",
            " [1 1]\n",
            " [0 0]\n",
            " [0 0]\n",
            " [0 0]\n",
            " [0 0]\n",
            " [0 1]\n",
            " [1 0]\n",
            " [0 0]\n",
            " [0 1]\n",
            " [0 0]\n",
            " [0 1]\n",
            " [0 0]\n",
            " [0 0]\n",
            " [0 0]\n",
            " [0 0]\n",
            " [0 1]\n",
            " [0 1]\n",
            " [1 0]\n",
            " [0 0]\n",
            " [1 1]\n",
            " [0 0]\n",
            " [0 0]\n",
            " [0 0]\n",
            " [0 0]\n",
            " [0 1]\n",
            " [0 0]]\n"
          ]
        }
      ]
    },
    {
      "cell_type": "markdown",
      "source": [
        "This printed output provides a side-by-side comparison between the predicted labels and the actual labels for the test dataset. It helps in assessing the performance of the KNN classifier by observing how well the predicted labels match the true labels. Misclassifications and the overall accuracy of the model can be inferred from this comparison."
      ],
      "metadata": {
        "id": "Uyx48SpL5eJZ"
      }
    },
    {
      "cell_type": "markdown",
      "source": [
        "#### *Confusion matrix*"
      ],
      "metadata": {
        "id": "5cl2eBC6Di37"
      }
    },
    {
      "cell_type": "code",
      "source": [
        "from sklearn.metrics import confusion_matrix, ConfusionMatrixDisplay, accuracy_score\n",
        "conf_matrix = confusion_matrix(Y_test, Y_pred_new)\n",
        "print(\"Confusion Matrix:\\n\", conf_matrix)\n",
        "print(\"Accuracy of the Model: {0}%\".format(accuracy_score(Y_test, Y_pred_new)*100))\n",
        "cm_display = ConfusionMatrixDisplay(confusion_matrix=conf_matrix,display_labels=['No disease','Disease'])\n",
        "cm_display.plot()"
      ],
      "metadata": {
        "colab": {
          "base_uri": "https://localhost:8080/",
          "height": 540
        },
        "id": "fcoBzzX0D7Yc",
        "outputId": "4815ca4d-f721-4db0-a5b5-20f8a05d711f"
      },
      "execution_count": null,
      "outputs": [
        {
          "output_type": "stream",
          "name": "stdout",
          "text": [
            "Confusion Matrix:\n",
            " [[72  5]\n",
            " [29 10]]\n",
            "Accuracy of the Model: 70.6896551724138%\n"
          ]
        },
        {
          "output_type": "execute_result",
          "data": {
            "text/plain": [
              "<sklearn.metrics._plot.confusion_matrix.ConfusionMatrixDisplay at 0x7b5fdd763d30>"
            ]
          },
          "metadata": {},
          "execution_count": 41
        },
        {
          "output_type": "display_data",
          "data": {
            "text/plain": [
              "<Figure size 640x480 with 2 Axes>"
            ],
            "image/png": "[encoded data removed]"
          },
          "metadata": {}
        }
      ]
    },
    {
      "cell_type": "markdown",
      "source": [
        "Accuracy is a common evaluation metric used to measure the overall performance of a classification model. It represents the proportion of correctly classified instances out of the total instances evaluated. The accuracy of our model is 70.68%.\n",
        "\n",
        "The confusion matrix tells us that:\n",
        "\n",
        "The true positive rate is 10, that is, 10 people have CHD and are correctly predicted to have CHD.\n",
        "\n",
        "The false positive rate is 5, that is, 5 people do not have CHD and are wrongly predicted to have CHD.\n",
        "\n",
        "The false negative rate is 29, that is, 29 people have CHD but are wrongly predicted to not have CHD.\n",
        "\n",
        "The true negative rate is 72, that is, 72 people do not have CHD and are correctly predicted to have CHD."
      ],
      "metadata": {
        "id": "Sv3aJuUF70O5"
      }
    },
    {
      "cell_type": "markdown",
      "source": [
        "#### *Precision and Recall*"
      ],
      "metadata": {
        "id": "1vaYTdc6EXlO"
      }
    },
    {
      "cell_type": "code",
      "source": [
        "# Metrics\n",
        "TP = 10\n",
        "TN = 72\n",
        "FP = 5\n",
        "FN = 29\n",
        "\n",
        "precision = TP/(TP+FP)\n",
        "recall = TP/(TP+FN)\n",
        "\n",
        "print(\"Presicion of the model : \",precision)\n",
        "print(\"Recall of the model :\",recall)"
      ],
      "metadata": {
        "colab": {
          "base_uri": "https://localhost:8080/"
        },
        "id": "QbQksiW1Edih",
        "outputId": "e5a44cd3-edc5-41a0-9d90-ac4831c26931"
      },
      "execution_count": null,
      "outputs": [
        {
          "output_type": "stream",
          "name": "stdout",
          "text": [
            "Presicion of the model :  0.6666666666666666\n",
            "Recall of the model : 0.2564102564102564\n"
          ]
        }
      ]
    },
    {
      "cell_type": "markdown",
      "source": [
        "Precision is a measure of the accuracy of the positive predictions made by the model. The precision value of 0.66 implies that 66.6% of the predicted positive cases are actually positive. Precision focuses on the accuracy of positive predictions, emphasizing the model's ability to avoid false positives.\n",
        "\n",
        "Recall, also known as sensitivity or true positive rate, measures the ability of the model to find all the positive instances in the dataset. The recall value of 0.256 implies that 25.6% of the actual positive cases are correctly predicted as positive. Recall focuses on the model's ability to capture all positive instances, emphasizing the avoidance of false negatives."
      ],
      "metadata": {
        "id": "YmFUgP1b8E3T"
      }
    },
    {
      "cell_type": "markdown",
      "source": [
        "## ***Conclusion***\n",
        "\n",
        "K-Nearest Neighbors (KNN) modeling is widely applicable in various real-life scenarios due to its simplicity, flexibility, and effectiveness. In healthcare, KNN can assist in medical diagnosis by analyzing patient data to predict diseases or conditions based on similar cases. For instance, it can predict the likelihood of a patient developing a particular ailment based on their symptoms, medical history, and demographic information. Additionally, KNN finds utility in recommendation systems, where it suggests items or services based on the preferences and behaviors of similar users. In finance, KNN can help in credit scoring and fraud detection by identifying patterns in transaction data. Its adaptability across diverse domains makes KNN a valuable tool for data-driven decision-making, offering insights and predictions that contribute to enhanced efficiency and informed choices in various real-world applications."
      ],
      "metadata": {
        "id": "_szCXaz6_YL2"
      }
    }
  ]
}